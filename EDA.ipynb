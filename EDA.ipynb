{
 "cells": [
  {
   "cell_type": "markdown",
   "metadata": {
    "deletable": true,
    "editable": true
   },
   "source": [
    "# Production Code for Formatting\n"
   ]
  },
  {
   "cell_type": "code",
   "execution_count": 1,
   "metadata": {
    "collapsed": true,
    "deletable": true,
    "editable": true
   },
   "outputs": [],
   "source": [
    "def combine_nans(column):\n",
    "    nan_idx = (column == \"None or Unspecified\") | (column == \"No\")\n",
    "    column[nan_idx] = np.nan\n",
    "    \n",
    "# def score(self, predictions):\n",
    "    # log_diff = np.log(predictions+1) - np.log(self.target+1)\n",
    "    # return np.sqrt(np.mean(log_diff**2))"
   ]
  },
  {
   "cell_type": "code",
   "execution_count": 2,
   "metadata": {
    "collapsed": false,
    "deletable": true,
    "editable": true
   },
   "outputs": [
    {
     "name": "stderr",
     "output_type": "stream",
     "text": [
      "/Users/tyler/anaconda/lib/python2.7/site-packages/sklearn/cross_validation.py:44: DeprecationWarning: This module was deprecated in version 0.18 in favor of the model_selection module into which all the refactored classes and functions are moved. Also note that the interface of the new CV iterators are different from that of this module. This module will be removed in 0.20.\n",
      "  \"This module will be removed in 0.20.\", DeprecationWarning)\n"
     ]
    }
   ],
   "source": [
    "import pandas as pd\n",
    "import numpy as np\n",
    "import matplotlib.pyplot as plt\n",
    "%matplotlib inline\n",
    "from sklearn.cross_validation import train_test_split\n",
    "from pandas.tools.plotting import scatter_matrix\n",
    "import datetime as dt"
   ]
  },
  {
   "cell_type": "code",
   "execution_count": 3,
   "metadata": {
    "collapsed": false,
    "deletable": true,
    "editable": true
   },
   "outputs": [
    {
     "name": "stderr",
     "output_type": "stream",
     "text": [
      "/Users/tyler/anaconda/lib/python2.7/site-packages/IPython/core/interactiveshell.py:2717: DtypeWarning: Columns (13,39,40,41) have mixed types. Specify dtype option on import or set low_memory=False.\n",
      "  interactivity=interactivity, compiler=compiler, result=result)\n"
     ]
    }
   ],
   "source": [
    "edadf = pd.read_csv('data/Train.csv')"
   ]
  },
  {
   "cell_type": "code",
   "execution_count": 4,
   "metadata": {
    "collapsed": false,
    "deletable": true,
    "editable": true,
    "scrolled": true
   },
   "outputs": [
    {
     "data": {
      "text/plain": [
       "Backhoe Loader - 14.0 to 15.0 Ft Standard Digging Depth             56166\n",
       "Track Type Tractor, Dozer - 20.0 to 75.0 Horsepower                 17788\n",
       "Wheel Loader - 150.0 to 175.0 Horsepower                            15114\n",
       "Track Type Tractor, Dozer - 85.0 to 105.0 Horsepower                14731\n",
       "Hydraulic Excavator, Track - 21.0 to 24.0 Metric Tons               13323\n",
       "Hydraulic Excavator, Track - 12.0 to 14.0 Metric Tons               11354\n",
       "Track Type Tractor, Dozer - 130.0 to 160.0 Horsepower               11140\n",
       "Track Type Tractor, Dozer - 260.0 + Horsepower                      10980\n",
       "Backhoe Loader - 15.0 to 16.0 Ft Standard Digging Depth             10566\n",
       "Wheel Loader - 120.0 to 135.0 Horsepower                            10551\n",
       "Skid Steer Loader - 1351.0 to 1601.0 Lb Operating Capacity           9321\n",
       "Skid Steer Loader - 1601.0 to 1751.0 Lb Operating Capacity           9011\n",
       "Motorgrader - 145.0 to 170.0 Horsepower                              8866\n",
       "Hydraulic Excavator, Track - 33.0 to 40.0 Metric Tons                8715\n",
       "Skid Steer Loader - 1751.0 to 2201.0 Lb Operating Capacity           7565\n",
       "Track Type Tractor, Dozer - 160.0 to 190.0 Horsepower                7561\n",
       "Wheel Loader - 175.0 to 200.0 Horsepower                             7471\n",
       "Skid Steer Loader - 1251.0 to 1351.0 Lb Operating Capacity           7361\n",
       "Hydraulic Excavator, Track - 6.0 to 8.0 Metric Tons                  7317\n",
       "Wheel Loader - 100.0 to 110.0 Horsepower                             7105\n",
       "Motorgrader - 45.0 to 130.0 Horsepower                               7096\n",
       "Track Type Tractor, Dozer - 75.0 to 85.0 Horsepower                  6773\n",
       "Hydraulic Excavator, Track - 40.0 to 50.0 Metric Tons                6608\n",
       "Track Type Tractor, Dozer - 190.0 to 260.0 Horsepower                6557\n",
       "Hydraulic Excavator, Track - 19.0 to 21.0 Metric Tons                6529\n",
       "Hydraulic Excavator, Track - 24.0 to 28.0 Metric Tons                6235\n",
       "Hydraulic Excavator, Track - 28.0 to 33.0 Metric Tons                6134\n",
       "Hydraulic Excavator, Track - 3.0 to 4.0 Metric Tons                  5860\n",
       "Hydraulic Excavator, Track - 16.0 to 19.0 Metric Tons                5688\n",
       "Motorgrader - 130.0 to 145.0 Horsepower                              5487\n",
       "                                                                    ...  \n",
       "Hydraulic Excavator, Track - 8.0 to 11.0 Metric Tons                 2640\n",
       "Skid Steer Loader - 2701.0+ Lb Operating Capacity                    2608\n",
       "Hydraulic Excavator, Track - 4.0 to 5.0 Metric Tons                  2537\n",
       "Hydraulic Excavator, Track - 11.0 to 12.0 Metric Tons                2258\n",
       "Hydraulic Excavator, Track - 0.0 to 2.0 Metric Tons                  2147\n",
       "Hydraulic Excavator, Track - 5.0 to 6.0 Metric Tons                  1975\n",
       "Hydraulic Excavator, Track - 50.0 to 66.0 Metric Tons                1702\n",
       "Wheel Loader - 250.0 to 275.0 Horsepower                             1476\n",
       "Wheel Loader - 225.0 to 250.0 Horsepower                             1324\n",
       "Motorgrader - 200.0 + Horsepower                                     1173\n",
       "Skid Steer Loader - 0.0 to 701.0 Lb Operating Capacity               1155\n",
       "Wheel Loader - 110.0 to 120.0 Horsepower                             1041\n",
       "Wheel Loader - 40.0 to 60.0 Horsepower                                764\n",
       "Skid Steer Loader - 976.0 to 1251.0 Lb Operating Capacity             741\n",
       "Skid Steer Loader - Unidentified                                      739\n",
       "Skid Steer Loader - 701.0 to 976.0 Lb Operating Capacity              557\n",
       "Wheel Loader - Unidentified                                           438\n",
       "Wheel Loader - 80.0 to 90.0 Horsepower                                432\n",
       "Wheel Loader - 500.0 to 1000.0 Horsepower                             389\n",
       "Hydraulic Excavator, Track - 66.0 to 90.0 Metric Tons                 348\n",
       "Wheel Loader - 0.0 to 40.0 Horsepower                                 224\n",
       "Hydraulic Excavator, Track - 4.0 to 6.0 Metric Tons                   135\n",
       "Hydraulic Excavator, Track - Unidentified                             117\n",
       "Track Type Tractor, Dozer - Unidentified                              113\n",
       "Hydraulic Excavator, Track - 90.0 to 150.0 Metric Tons                 62\n",
       "Hydraulic Excavator, Track - Unidentified (Compact Construction)       38\n",
       "Wheel Loader - 1000.0 + Horsepower                                     25\n",
       "Hydraulic Excavator, Track - 150.0 to 300.0 Metric Tons                21\n",
       "Motorgrader - Unidentified                                              1\n",
       "Hydraulic Excavator, Track - 300.0 + Metric Tons                        1\n",
       "Name: fiProductClassDesc, dtype: int64"
      ]
     },
     "execution_count": 4,
     "metadata": {},
     "output_type": "execute_result"
    }
   ],
   "source": [
    "edadf['fiProductClassDesc'].value_counts()"
   ]
  },
  {
   "cell_type": "code",
   "execution_count": 5,
   "metadata": {
    "collapsed": false,
    "deletable": true,
    "editable": true
   },
   "outputs": [
    {
     "name": "stdout",
     "output_type": "stream",
     "text": [
      "SalesID\n",
      "[1139246 1139248 1139249 ..., 6333338 6333341 6333342]\n",
      "401125\n",
      "--------------------------------------------------\n",
      "SalePrice\n",
      "[ 66000  57000  10000  38500  11000  26500  21000  27000  21500  65000\n",
      "  24000  22500  36000  30500  28000  19000  13500   9500  12500  11500\n",
      "  41000  34500  26000  73000  33000  15500  53000  46000  89000  51000\n",
      "  14000  31500  18500   8250  20500  39000  58000   7750  32000  12000\n",
      "  75000   5500  28500  35500  30000   8500  37000  23000   8100  29000\n",
      " 102000  35000  33500  15000  70000   7500  13000  44000  67000  17000\n",
      "  52000  50000  25000  25500  17500  64000  16000  56000   6500  19500\n",
      "  42000  83000  45000  29500  18000   9000  31000   9700  10500  24500\n",
      "  60000  20000  86000  14500  54000  22000  40000  63000  27500 126000\n",
      "  49000  16500  74000  84000  94000  47000   5750  61000  76000  62000\n",
      "  44500  43000  23500 127000  32500  48000  38000  82000  34000   9750\n",
      "  99000  85000  71000  81000  77000  97000 121000 109000   8000   5250\n",
      "  62500  14750  68000  72000 141000  93000  11350  59000   6000  95000\n",
      "  78000   6250  11250   6750  69000  87000  50500   5000  48500  11750\n",
      "  79000   8750  55000  88000 119000  87500 128000 110000  10750  43500\n",
      "  96000  80250 106000  98000   7000 101000  42500 113000   4750  52500\n",
      "  94500  12250  41500   9250  80000  36500 118000  90000 100000  39500\n",
      "  37500   8150 108000   8350 136000 122000  47500  20080  91000  15250\n",
      " 105000  14250 120000   7250  92000  58700  45500 114000 112000  10250\n",
      " 123000 103000 124000  58500  53500  28020 111000  49500  46500  64500\n",
      " 117000  18750 125000  21100   6600  40500  13250 113500  56500 107000\n",
      " 104000 137000   8200 115000   5400 116000  35080  32075 142000   6200\n",
      "  16250  78575  12600 135000  12750  51500  89025  15080 131560 132000\n",
      "  17750   4800  19080 140000   8400  15750 131000  14800  17200  67500\n",
      "  77500   9300 138000  29100  10850  22300  53750  11700 130000  25200\n",
      "  12450  27580  11950  17250   5300  91500  76500  63500  12700  13750\n",
      "  57500  14764  54500 133000  69500 129000  60500  10700   5200  21200\n",
      "  89500  13400  13600   8600  19300  63750   5900  10150  34250  20750\n",
      "  11150  17600  23400  32600  12050  64250  11650  11550  10090  25250\n",
      "  37100  97500   8700 134000  10600  10800  73500  33250   5700 106500\n",
      "  13550  15600   6400  19250  19400 123500   4900   5100   8800  11300\n",
      "  58800   7600   6900  74025  59500  27333  72500  25750   6700  26750\n",
      "  11800  19750  16750   5600  82500  11100   6100  29250   9650  18250\n",
      "  15300  18400   8850  24250  22750  13900   7100  66500   9100  13700\n",
      "  12350  13100  20250  10100   8050   7800  14300  13200  14200   6850\n",
      "   6800   8300  21250  28250  13800  23750   9800  23250  12900  12300\n",
      "  15850  13850  10300  14100  15150  21750  21600  22250  10900  15800\n",
      "  10550  15700   7700   7900   4850   6300   7350   9200  27750   9600\n",
      "  16300  15100   8900   9400  22900  26250  24750  20600  14700  99500\n",
      "   7300   8450   9900   9150  10200   7850   9950   9450  10400   8650\n",
      "   8950   7875   7544  12100  12400  13650  11200  14600  12800  13950\n",
      "  17100  14400  20450  16900  15200   7400   7200   5950  18200  29750\n",
      "  30750  92500  44250  34750  61500  68500  57750 107500 102500 112500\n",
      "  27250  70500  81500 108500 122500  18100  23800  28200  11600   7450\n",
      "   9850   5800   6550  10350  11900   5760   9350  10605   5460  17900\n",
      "  20400  19950  32750  40750  41250  65500  55500  52750  13300  20100\n",
      "  19200  16758  15400  27200  27700  14900  16775  18300  16100  31250\n",
      "  25800  31750  42250  36750  39750  24600  28750  38250  22600  30250\n",
      "  19700  41700  37250  35750  16800  12075  14175  20900  21525  18600\n",
      "  27300  16275  16200  21950  54250  32300  18800  39250  13125  15900\n",
      "  24900  24300  25700  37750  17700  83500 109500 117500  98500  59750\n",
      "  50250 114500  74500 119500  38750  75500 127500  86500  78500  93500\n",
      "  21700  20850  71500  22575  49250  35250  85500  79500  12200  18009\n",
      "  20200  19800  15550 105500  90500 104500  39200  80500  84500  88500\n",
      " 118500  19425 137500 132500  39800  36250  33750  66600  43750  51750\n",
      "  45250  32250  46750  87750  45800  95500  43250  17325  56700  48750\n",
      "   8715 120500  10650  14450  11025  19600  72100  38599 115500  34650\n",
      "  38850  58750  40250 126500 139000  81750 124500  25950  22200  42300\n",
      "  23700  68250  86100  16700  19900  24525  23900  17300  42750  62250\n",
      "  69300  96500  95100  60250 116500  47250  70250  45750  45150  34125\n",
      "  29600  27800  36900  33100  84250 100500  18700  56750  18900  87600\n",
      "  45600  43575  11400  82600 103500  16850  22350   8550  45100  38900\n",
      "  51100  41750  62750  21225  16950  27450  23100  30700  47750  48250\n",
      " 130250  47800  70750  82750 128500  53250  23300  27100  46250  37300\n",
      "  44600 110500 106765 129500  90300  22100  59850  71400  78100 101500\n",
      "  55250  37800  41900  33900  18637  27825  16650  13338  42100   7550\n",
      "  17650   8085  17587  32025  20150  30975  15487  11850  17400  10762\n",
      "  16350  25725   8295   4935  16570  16600  11875  30900  51450  44625\n",
      "  17850  43050   9975  21400  52250  30450  39900  20300  19100  46200\n",
      "   7650  24100  12650  27600  18350  25600   9050  21181  20700  67200\n",
      "  58250  44750   9506   5550   5850   6350   7950   5450   7050   4950\n",
      "  12850   9345   6650   7150   9187   9550  10867   8570   5150  32100\n",
      "  10730   5350   6450  14850  14223   5775   8925   7612   4987   7087\n",
      "   8190   8625   8505   9870  23575  29400  38025  25300  24675  34100\n",
      "  22050  39375  17800  29925  24150  28875  13860  26775  18113  48825\n",
      "  32550  40950  77700  28350  38100  63250  46725  12860   8662  35175\n",
      "  48300  49350  23625  90201  68750  25987  31350  65100  66150  74550\n",
      "  55650 123375  21262  20212  44100  54075  49875  57225  76125  47775\n",
      "  24200  18375  12862  19050  75900  73700  50400  60900 112875 117600\n",
      "  19525  26700  25100  61750  14962  48600  55125  42525  89250  65625\n",
      "  81900  39350 110250 116550  72450  76650  97700  61950  60375  17430\n",
      " 131500  13965  79800  59325  70350  35700  34300 120250  40900  75600\n",
      "  82425  20475  53200  64050  53400  15901  52200  53550  50800  36275\n",
      "  22902   9176  10225  13875   8675  19585  19125  15225  27037  36225\n",
      "  51975  29200   9030  32178  12915  13387  78750  51900  74750  25076\n",
      "  16400  10450  17580  18075  19226  38800  14525   9225   8360  97650\n",
      "  69400  10950  20050  33600  70875  50925  80850  33075  42800  51700\n",
      " 101750  39600  40425  54600  49750  48845  85050   8270  25900  34400\n",
      "  68600  74250  24700  39100  47700  82250 117100  79600  30600  64100\n",
      "  41600  56250  61900  62600  42600  49700  21300  32200  28100]\n",
      "899\n",
      "--------------------------------------------------\n",
      "MachineID\n",
      "[ 999089  117657  434808 ..., 1887659 1903570 1926965]\n",
      "341027\n",
      "--------------------------------------------------\n",
      "ModelID\n",
      "[ 3157    77  7009 ..., 18179 22897 10661]\n",
      "5218\n",
      "--------------------------------------------------\n",
      "datasource\n",
      "[121 132 136 149 172]\n",
      "5\n",
      "--------------------------------------------------\n",
      "auctioneerID\n",
      "[  3.   1.   2.  11.   4.   7.  99.   6.   5.  18.  17.  22.  20.  14.  16.\n",
      "  21.   9.  13.  12.  23.  10.  15.  19.   8.  28.  25.  27.  24.  nan   0.\n",
      "  26.]\n",
      "31\n",
      "--------------------------------------------------\n",
      "YearMade\n",
      "[2004 1996 2001 2007 1993 2008 1000 1998 1999 2003 1991 2000 2005 1995 2006\n",
      " 2002 1984 1988 1980 1992 1987 1997 1971 1978 1989 1985 1979 1976 1994 1982\n",
      " 1990 1974 1968 1966 1983 1986 1981 1970 1977 1975 1973 1965 1967 2009 2010\n",
      " 1969 1972 1964 1957 1958 1963 1919 1920 1950 1948 1952 1942 1956 1954 1953\n",
      " 1955 1959 1960 1961 1962 1951 1937 1949 1947 2012 2013 2011]\n",
      "72\n",
      "--------------------------------------------------\n",
      "MachineHoursCurrentMeter\n",
      "[    68.   4640.   2838. ...,   8298.  35740.  12201.]\n",
      "15153\n",
      "--------------------------------------------------\n",
      "UsageBand\n",
      "['Low' 'High' 'Medium' nan]\n",
      "4\n",
      "--------------------------------------------------\n",
      "saledate\n",
      "['11/16/2006 0:00' '3/26/2004 0:00' '2/26/2004 0:00' ..., '10/29/2011 0:00'\n",
      " '11/12/2011 0:00' '12/10/2011 0:00']\n",
      "3919\n",
      "--------------------------------------------------\n",
      "fiModelDesc\n",
      "['521D' '950FII' '226' ..., 'EC460B' 'L90V' 'HW180']\n",
      "4999\n",
      "--------------------------------------------------\n",
      "fiBaseModel\n",
      "['521' '950' '226' ..., 'LS120' 'TL210' 'HW180']\n",
      "1950\n",
      "--------------------------------------------------\n",
      "fiSecondaryDesc\n",
      "['D' 'F' nan 'G' 'E' 'HAG' 'B' 'NX' 'SUPER K' 'STD' 'BL' 'Z' 'C' 'XT' 'A'\n",
      " 'H' 'MR' 'PT' 'L' 'M' 'J' 'SE' 'SXT' 'HD' 'LC' 'SUPER M' 'LX' 'SUPER L'\n",
      " 'LE' 'K' 'S' 'R' 'P' 'SG' 'US' 'UU' 'WX' 'PX' 'N' 'ZTM' 'SUPER E' 'XL'\n",
      " 'MXT' 'EX' '-2' 'LCM' 'GT' 'TM' 'HZ' 'AX' 'DXT' '3' 'SR' '7' 'ZTS'\n",
      " 'B     ' 'T' 'UR' '-3' 'V' 'ZT' '1' 'SUPER M PLUS' 'BZD' 'DZ' 'WD' 'LGP'\n",
      " 'SRLC' 'CH' 'CS' 'M      ' 'ZHS G' 'Q' 'MRX' 'FR' 'UNA' 'R-2' 'PS' 'AG'\n",
      " 'URG' 'NE' 'U' '2' 'SB' 'TX' 'TTL' 'JX' 'LT' 'MSR SPIN ACE' 'HF' 'HDSL'\n",
      " 'LCD' 'X' 'LS' 'EST' 'LR' 'TC' 'BLGP' 'USR' 'RC' 'SJ' 'ZF' 'SUPER LE' 'MT'\n",
      " 'SUPER R' 'C      ' 'BEC' 'DC' 'CE' 'AB' 'MU' 'USRK' 'W' '-7' 'SL' 'SU'\n",
      " '0.7' 'THF' 'ZX' 'NL' 'CX' 'SRDZ' 'H90' 'AW' 'SP' 'EL' 'PL' '#NAME?' 'ESS'\n",
      " 'CM' 'CL' 'EW' 'ZHS' 'CR' 'CKB' 'CK' 'DX' 'SX' 'HL' 'HDS' 'DT' 'LCH' '5'\n",
      " 'H      ' 'SUPER' 'IV' 'XP' 'LD' 'LC7A' 'SF' 'PG' 'SPIN ACE' 'HX' 'EG'\n",
      " 'HLGP' 'WT' 'XLT' 'MSR' 'BLGPPS' 'AA' 'BZ' 'TP' 'CLR' 'MC' 'HLS' 'DL'\n",
      " 'USBL' 'LCLR' 'LC7LR' 'NC' '-5' '-5L' 'PTC' '-6' ' MSR SPIN ACE' 'NLC']\n",
      "176\n",
      "--------------------------------------------------\n",
      "fiModelSeries\n",
      "[nan 'II' '-6E' 'LC' '-5' 'III' '-1' '5' '-2' '1' '#NAME?' '-3L' '-20' '3'\n",
      " '15' '-12' '6' '-6' 'V' '-3' '-3PT' '-21' '-7' '7' '-3MC' 'IV' '-21A'\n",
      " '-3LC' '-5L' '5N' '-5H' '-1L' '-8' '4' '2' '-18' '-15' '2T' '18' 'E' '-3C'\n",
      " '-6B' '7.00E+00' 'A' '-3LK' 'ZTS' '-2N' '12' 'V-2' 'XT' '-7E' '-2C' '-8E'\n",
      " '-6LC' '-3H' '16' 'IV-2' '-6K' '6F' '22' '3A' 'VHP' 'LGP' 'LT' '14FT' 'EX'\n",
      " '-6C' '3C' '-7K' '17' '1970' '-2LC' 'M' 'D' 'ZX' 'LV' '-5LC' '-5E'\n",
      " '6.00E+00' '-17' '-16' '-4' '8' '-7B' '-1C' '-11' 'L' '-6A' 'LL' -5.0 -2.0\n",
      " -8.0 -3.0 -7.0 2.0 'G' 'WX' '-2A' '-5F' '-3M' 'D7' '7A' ' III' 'AWS' '2B'\n",
      " '20' '-5A' '-6LK' '-2E' 'VI' 'H' '-1B' '-3EO' 'TC' 'Elite' 'WT' 'XLT'\n",
      " 'SeriesII' '-1.50E+01' 'GALEO' '6L' '6LE' '6LK' '21KomStatII' '21KomStat'\n",
      " '7L' 'Q' 'ZHS' 'FASTRRACK']\n",
      "129\n",
      "--------------------------------------------------\n",
      "fiModelDescriptor\n",
      "[nan 'LC' '6' 'L' 'LT' 'CR' 'SB' 'XL' 'LGP' 'VHP' '7' 'Z' '2.00E+00' 'MC'\n",
      " 'H' 'E' '3' 'LK' '5' 'K' '8' 'HT' 'LX' 'XLT' 'XW' 'HSD' '2' 'XR' 'TC'\n",
      " 'LCR' 'TLB' 'WT' 'TURBO' 'U' '4WD' 'XT' 'LRC' 'ZTS' 'RTS' 'TP' 'LE' 'LRR'\n",
      " 'SA' '3C' 'SR' 'XP' '1' 'BE' '3NO' 'CRSB' 'N' 'SSR' 'DHP' 'LM' ' SUPER'\n",
      " 'KA' 'H5' 'II' 'MH' 'P' 'LU' 'DT' 'XTV' 'LR' 'ZX' 'LL' 'V' 'DELUXE' 'USLC'\n",
      " 'SU' 'SRDZ' 'C' 'PRO' 'PLUS' 'SITEMASTER' 'DINGO' '3.00E+00' ' XLT' 'LN'\n",
      " 'AE0' 'SERIES3' '7.00E+00' 'ESL' 'A' 'G' 'B' 'DLL' 'CK' 'NSUC' 'LS' 'SLGP'\n",
      " 'RR' 'WLT' 'LCRTS' 'X' 'LCH' 'T' 'NLC' 'SM' 'SE' 'TM' 'SRLC' 'CUSTOM' 'HD'\n",
      " 'DW' 'LC8' ' LGP' 'TK' 'HF' 'SUPER K' 'IV' ' XT' 'IT' 'XLVP' 'LGPVP' 'K5'\n",
      " '3L' '7A' 'XD' 'DA' 'Y' 'S' 'M' '6K' 'LITRONIC' 'KBNA' ' 14FT' '2N' 'III'\n",
      " 'ME' 'High Lift' 'HighLift' 'VHP/AWD' 'K3' '4x4x4' ' ZX' '(BLADE RUNNER)'\n",
      " 'AVANCE' 'GALEO' 'LongReach']\n",
      "140\n",
      "--------------------------------------------------\n",
      "ProductSize\n",
      "[nan 'Medium' 'Small' 'Large / Medium' 'Mini' 'Large' 'Compact']\n",
      "7\n",
      "--------------------------------------------------\n",
      "fiProductClassDesc\n",
      "['Wheel Loader - 110.0 to 120.0 Horsepower'\n",
      " 'Wheel Loader - 150.0 to 175.0 Horsepower'\n",
      " 'Skid Steer Loader - 1351.0 to 1601.0 Lb Operating Capacity'\n",
      " 'Hydraulic Excavator, Track - 12.0 to 14.0 Metric Tons'\n",
      " 'Skid Steer Loader - 1601.0 to 1751.0 Lb Operating Capacity'\n",
      " 'Backhoe Loader - 14.0 to 15.0 Ft Standard Digging Depth'\n",
      " 'Hydraulic Excavator, Track - 21.0 to 24.0 Metric Tons'\n",
      " 'Hydraulic Excavator, Track - 3.0 to 4.0 Metric Tons'\n",
      " 'Wheel Loader - 350.0 to 500.0 Horsepower'\n",
      " 'Track Type Tractor, Dozer - 20.0 to 75.0 Horsepower'\n",
      " 'Hydraulic Excavator, Track - 19.0 to 21.0 Metric Tons'\n",
      " 'Hydraulic Excavator, Track - 4.0 to 5.0 Metric Tons'\n",
      " 'Hydraulic Excavator, Track - 2.0 to 3.0 Metric Tons'\n",
      " 'Hydraulic Excavator, Track - 24.0 to 28.0 Metric Tons'\n",
      " 'Motorgrader - 45.0 to 130.0 Horsepower'\n",
      " 'Wheel Loader - 200.0 to 225.0 Horsepower'\n",
      " 'Hydraulic Excavator, Track - 50.0 to 66.0 Metric Tons'\n",
      " 'Hydraulic Excavator, Track - 40.0 to 50.0 Metric Tons'\n",
      " 'Hydraulic Excavator, Track - 33.0 to 40.0 Metric Tons'\n",
      " 'Skid Steer Loader - 2201.0 to 2701.0 Lb Operating Capacity'\n",
      " 'Wheel Loader - 120.0 to 135.0 Horsepower'\n",
      " 'Track Type Tractor, Dozer - 130.0 to 160.0 Horsepower'\n",
      " 'Wheel Loader - 275.0 to 350.0 Horsepower'\n",
      " 'Motorgrader - 145.0 to 170.0 Horsepower'\n",
      " 'Hydraulic Excavator, Track - 6.0 to 8.0 Metric Tons'\n",
      " 'Wheel Loader - 60.0 to 80.0 Horsepower'\n",
      " 'Skid Steer Loader - 701.0 to 976.0 Lb Operating Capacity'\n",
      " 'Hydraulic Excavator, Track - 8.0 to 11.0 Metric Tons'\n",
      " 'Skid Steer Loader - 1751.0 to 2201.0 Lb Operating Capacity'\n",
      " 'Motorgrader - 170.0 to 200.0 Horsepower'\n",
      " 'Skid Steer Loader - 1251.0 to 1351.0 Lb Operating Capacity'\n",
      " 'Hydraulic Excavator, Track - 16.0 to 19.0 Metric Tons'\n",
      " 'Hydraulic Excavator, Track - 0.0 to 2.0 Metric Tons'\n",
      " 'Backhoe Loader - 15.0 to 16.0 Ft Standard Digging Depth'\n",
      " 'Motorgrader - 130.0 to 145.0 Horsepower'\n",
      " 'Track Type Tractor, Dozer - 75.0 to 85.0 Horsepower'\n",
      " 'Hydraulic Excavator, Track - 14.0 to 16.0 Metric Tons'\n",
      " 'Track Type Tractor, Dozer - 85.0 to 105.0 Horsepower'\n",
      " 'Backhoe Loader - 16.0 + Ft Standard Digging Depth'\n",
      " 'Hydraulic Excavator, Track - 28.0 to 33.0 Metric Tons'\n",
      " 'Track Type Tractor, Dozer - 105.0 to 130.0 Horsepower'\n",
      " 'Track Type Tractor, Dozer - 160.0 to 190.0 Horsepower'\n",
      " 'Backhoe Loader - 0.0 to 14.0 Ft Standard Digging Depth'\n",
      " 'Skid Steer Loader - 0.0 to 701.0 Lb Operating Capacity'\n",
      " 'Track Type Tractor, Dozer - 190.0 to 260.0 Horsepower'\n",
      " 'Wheel Loader - 135.0 to 150.0 Horsepower'\n",
      " 'Wheel Loader - 175.0 to 200.0 Horsepower'\n",
      " 'Wheel Loader - 225.0 to 250.0 Horsepower'\n",
      " 'Skid Steer Loader - 2701.0+ Lb Operating Capacity'\n",
      " 'Wheel Loader - 90.0 to 100.0 Horsepower'\n",
      " 'Track Type Tractor, Dozer - 260.0 + Horsepower'\n",
      " 'Motorgrader - 200.0 + Horsepower'\n",
      " 'Hydraulic Excavator, Track - 5.0 to 6.0 Metric Tons'\n",
      " 'Wheel Loader - 250.0 to 275.0 Horsepower'\n",
      " 'Wheel Loader - 40.0 to 60.0 Horsepower' 'Backhoe Loader - Unidentified'\n",
      " 'Skid Steer Loader - Unidentified'\n",
      " 'Hydraulic Excavator, Track - 66.0 to 90.0 Metric Tons'\n",
      " 'Wheel Loader - 100.0 to 110.0 Horsepower'\n",
      " 'Skid Steer Loader - 976.0 to 1251.0 Lb Operating Capacity'\n",
      " 'Wheel Loader - 500.0 to 1000.0 Horsepower'\n",
      " 'Wheel Loader - 80.0 to 90.0 Horsepower'\n",
      " 'Hydraulic Excavator, Track - Unidentified'\n",
      " 'Hydraulic Excavator, Track - 11.0 to 12.0 Metric Tons'\n",
      " 'Hydraulic Excavator, Track - 90.0 to 150.0 Metric Tons'\n",
      " 'Hydraulic Excavator, Track - 4.0 to 6.0 Metric Tons'\n",
      " 'Hydraulic Excavator, Track - 150.0 to 300.0 Metric Tons'\n",
      " 'Wheel Loader - Unidentified' 'Wheel Loader - 0.0 to 40.0 Horsepower'\n",
      " 'Hydraulic Excavator, Track - 300.0 + Metric Tons'\n",
      " 'Track Type Tractor, Dozer - Unidentified'\n",
      " 'Wheel Loader - 1000.0 + Horsepower'\n",
      " 'Hydraulic Excavator, Track - Unidentified (Compact Construction)'\n",
      " 'Motorgrader - Unidentified']\n",
      "74\n",
      "--------------------------------------------------\n",
      "state\n",
      "['Alabama' 'North Carolina' 'New York' 'Texas' 'Arizona' 'Florida'\n",
      " 'Illinois' 'Oregon' 'Ohio' 'Arkansas' 'Wisconsin' 'Kansas' 'Nevada' 'Iowa'\n",
      " 'Maine' 'Massachusetts' 'California' 'Louisiana' 'Minnesota'\n",
      " 'New Hampshire' 'Idaho' 'Michigan' 'Mississippi' 'Georgia' 'Missouri'\n",
      " 'South Carolina' 'Utah' 'Tennessee' 'Washington' 'Virginia' 'South Dakota'\n",
      " 'West Virginia' 'Oklahoma' 'Pennsylvania' 'Wyoming' 'North Dakota'\n",
      " 'New Jersey' 'Kentucky' 'Montana' 'Alaska' 'Nebraska' 'Maryland' 'Hawaii'\n",
      " 'Colorado' 'New Mexico' 'Indiana' 'Connecticut' 'Delaware' 'Rhode Island'\n",
      " 'Vermont' 'Washington DC' 'Puerto Rico' 'Unspecified']\n",
      "53\n",
      "--------------------------------------------------\n",
      "ProductGroup\n",
      "['WL' 'SSL' 'TEX' 'BL' 'TTT' 'MG']\n",
      "6\n",
      "--------------------------------------------------\n",
      "ProductGroupDesc\n",
      "['Wheel Loader' 'Skid Steer Loaders' 'Track Excavators' 'Backhoe Loaders'\n",
      " 'Track Type Tractors' 'Motor Graders']\n",
      "6\n",
      "--------------------------------------------------\n",
      "Drive_System\n",
      "[nan 'Four Wheel Drive' 'Two Wheel Drive' 'No' 'All Wheel Drive']\n",
      "5\n",
      "--------------------------------------------------\n",
      "Enclosure\n",
      "['EROPS w AC' 'OROPS' 'EROPS' nan 'EROPS AC' 'NO ROPS'\n",
      " 'None or Unspecified']\n",
      "7\n",
      "--------------------------------------------------\n",
      "Forks\n",
      "['None or Unspecified' nan 'Yes']\n",
      "3\n",
      "--------------------------------------------------\n",
      "Pad_Type\n",
      "[nan 'None or Unspecified' 'Reversible' 'Street' 'Grouser']\n",
      "5\n",
      "--------------------------------------------------\n",
      "Ride_Control\n",
      "['None or Unspecified' nan 'No' 'Yes']\n",
      "4\n",
      "--------------------------------------------------\n",
      "Stick\n",
      "[nan 'Extended' 'Standard']\n",
      "3\n",
      "--------------------------------------------------\n",
      "Transmission\n",
      "[nan 'Powershuttle' 'Standard' 'Powershift' 'None or Unspecified'\n",
      " 'Hydrostatic' 'Autoshift' 'Direct Drive' 'AutoShift']\n",
      "9\n",
      "--------------------------------------------------\n",
      "Turbocharged\n",
      "[nan 'None or Unspecified' 'Yes']\n",
      "3\n",
      "--------------------------------------------------\n",
      "Blade_Extension\n",
      "[nan 'Yes' 'None or Unspecified']\n",
      "3\n",
      "--------------------------------------------------\n",
      "Blade_Width\n",
      "[nan 'None or Unspecified' \"12'\" \"14'\" \"13'\" \"16'\" \"<12'\"]\n",
      "7\n",
      "--------------------------------------------------\n",
      "Enclosure_Type\n",
      "[nan 'None or Unspecified' 'Low Profile' 'High Profile']\n",
      "4\n",
      "--------------------------------------------------\n",
      "Engine_Horsepower\n",
      "[nan 'No' 'Variable']\n",
      "3\n",
      "--------------------------------------------------\n",
      "Hydraulics\n",
      "['2 Valve' 'Auxiliary' nan 'Standard' 'Base + 1 Function'\n",
      " 'Base + 3 Function' '4 Valve' '3 Valve' 'Base + 2 Function'\n",
      " 'Base + 4 Function' 'None or Unspecified' 'Base + 5 Function'\n",
      " 'Base + 6 Function']\n",
      "13\n",
      "--------------------------------------------------\n",
      "Pushblock\n",
      "[nan 'None or Unspecified' 'Yes']\n",
      "3\n",
      "--------------------------------------------------\n",
      "Ripper\n",
      "[nan 'None or Unspecified' 'Yes' 'Single Shank' 'Multi Shank']\n",
      "5\n",
      "--------------------------------------------------\n",
      "Scarifier\n",
      "[nan 'Yes' 'None or Unspecified']\n",
      "3\n",
      "--------------------------------------------------\n",
      "Tip_Control\n",
      "[nan 'Sideshift & Tip' 'None or Unspecified' 'Tip']\n",
      "4\n",
      "--------------------------------------------------\n",
      "Tire_Size\n",
      "['None or Unspecified' '23.5' nan '13\"' '26.5' '29.5' '14\"' '20.5' '17.5\"'\n",
      " '15.5\"' '20.5\"' '17.5' '7.0\"' '15.5' '23.5\"' '10\"' '23.1\"' '10 inch']\n",
      "18\n",
      "--------------------------------------------------\n",
      "Coupler\n",
      "['None or Unspecified' nan 'Manual' 'Hydraulic']\n",
      "4\n",
      "--------------------------------------------------\n",
      "Coupler_System\n",
      "[nan 'None or Unspecified' 'Yes']\n",
      "3\n",
      "--------------------------------------------------\n",
      "Grouser_Tracks\n",
      "[nan 'None or Unspecified' 'Yes']\n",
      "3\n",
      "--------------------------------------------------\n",
      "Hydraulics_Flow\n",
      "[nan 'Standard' 'High Flow' 'None or Unspecified']\n",
      "4\n",
      "--------------------------------------------------\n",
      "Track_Type\n",
      "[nan 'Steel' 'Rubber']\n",
      "3\n",
      "--------------------------------------------------\n",
      "Undercarriage_Pad_Width\n",
      "[nan 'None or Unspecified' '16 inch' '32 inch' '28 inch' '30 inch'\n",
      " '22 inch' '24 inch' '18 inch' '36 inch' '20 inch' '27 inch' '15 inch'\n",
      " '26 inch' '34 inch' '33 inch' '14 inch' '31 inch' '25 inch' '31.5 inch']\n",
      "20\n",
      "--------------------------------------------------\n",
      "Stick_Length\n",
      "[nan 'None or Unspecified' '11\\' 0\"' '15\\' 9\"' '10\\' 2\"' '10\\' 6\"'\n",
      " '9\\' 10\"' '10\\' 10\"' '9\\' 6\"' '9\\' 7\"' '12\\' 8\"' '8\\' 2\"' '8\\' 6\"'\n",
      " '9\\' 8\"' '12\\' 10\"' '11\\' 10\"' '8\\' 10\"' '8\\' 4\"' '12\\' 4\"' '9\\' 5\"'\n",
      " '6\\' 3\"' '14\\' 1\"' '13\\' 7\"' '13\\' 10\"' '13\\' 9\"' '7\\' 10\"' '15\\' 4\"'\n",
      " '9\\' 2\"' '24\\' 3\"' '19\\' 8\"']\n",
      "30\n",
      "--------------------------------------------------\n",
      "Thumb\n",
      "[nan 'None or Unspecified' 'Hydraulic' 'Manual']\n",
      "4\n",
      "--------------------------------------------------\n",
      "Pattern_Changer\n",
      "[nan 'None or Unspecified' 'Yes' 'No']\n",
      "4\n",
      "--------------------------------------------------\n",
      "Grouser_Type\n",
      "[nan 'Double' 'Triple' 'Single']\n",
      "4\n",
      "--------------------------------------------------\n",
      "Backhoe_Mounting\n",
      "[nan 'None or Unspecified' 'Yes']\n",
      "3\n",
      "--------------------------------------------------\n",
      "Blade_Type\n",
      "[nan 'PAT' 'None or Unspecified' 'Semi U' 'VPAT' 'Straight' 'Angle' 'No'\n",
      " 'U' 'Landfill' 'Coal']\n",
      "11\n",
      "--------------------------------------------------\n",
      "Travel_Controls\n",
      "[nan 'None or Unspecified' 'Differential Steer' 'Lever' 'Finger Tip'\n",
      " '2 Pedal' 'Pedal' '1 Speed']\n",
      "8\n",
      "--------------------------------------------------\n",
      "Differential_Type\n",
      "['Standard' nan 'Limited Slip' 'No Spin' 'Locking']\n",
      "5\n",
      "--------------------------------------------------\n",
      "Steering_Controls\n",
      "['Conventional' nan 'Command Control' 'Four Wheel Standard' 'Wheel' 'No']\n",
      "6\n",
      "--------------------------------------------------\n"
     ]
    }
   ],
   "source": [
    "for column in edadf:\n",
    "    print column\n",
    "    print edadf[column].unique()\n",
    "    print len(edadf[column].unique())\n",
    "    print \"-\" * 50"
   ]
  },
  {
   "cell_type": "code",
   "execution_count": 108,
   "metadata": {
    "collapsed": false,
    "deletable": true,
    "editable": true,
    "scrolled": true
   },
   "outputs": [
    {
     "name": "stderr",
     "output_type": "stream",
     "text": [
      "/Users/tyler/anaconda/lib/python2.7/site-packages/ipykernel/__main__.py:3: SettingWithCopyWarning: \n",
      "A value is trying to be set on a copy of a slice from a DataFrame\n",
      "\n",
      "See the caveats in the documentation: http://pandas.pydata.org/pandas-docs/stable/indexing.html#indexing-view-versus-copy\n",
      "  app.launch_new_instance()\n"
     ]
    }
   ],
   "source": [
    "df = pd.read_csv('data/Train.csv')\n",
    "#Convert Datetime\n",
    "df['saledate'] = pd.to_datetime(df['saledate'])\n",
    "df['saledate'] = df['saledate'].dt.year\n",
    "dfnew = df.copy()\n",
    "\n",
    "dfnew['saledate'] = dfnew['saledate'].astype(str)\n",
    "dfnew['saledate'].dtype\n",
    "\n",
    "convert_list = ['MachineID', 'ModelID', 'auctioneerID', 'YearMade']\n",
    "for castit in convert_list:\n",
    "    dfnew[castit] = dfnew[castit].astype(str)\n",
    "\n",
    "df = dfnew.copy()\n",
    "\n",
    "# Set SalesID as index\n",
    "df.set_index('SalesID', inplace=True, drop=True)\n",
    "salesdf = df.pop('SalePrice')\n",
    "\n",
    "#Convert AuctioneerID to String\n",
    "df['auctioneerID'] = df['auctioneerID'].astype(str)\n",
    "\n",
    "# List of columns to drop\n",
    "\n",
    "drop_columns = ['fiModelDesc','fiSecondaryDesc','fiModelSeries', 'fiModelDescriptor',\\\n",
    "                'ProductGroupDesc','Hydraulics','Tip_Control',\\\n",
    "                'Coupler_System','Hydraulics_Flow','Stick_Length','Grouser_Type','Pattern_Changer',\\\n",
    "                'Travel_Controls','Grouser_Tracks', 'auctioneerID', 'Tire_Size',\\\n",
    "                 'datasource', 'Drive_System', 'Enclosure','Forks','Pad_Type','Ride_Control','Stick',\\\n",
    "                'Transmission','Turbocharged',\\\n",
    "               'Blade_Extension','Blade_Width','Enclosure_Type','Engine_Horsepower','Pushblock',\\\n",
    "               'Ripper','Scarifier','Coupler','Track_Type','Undercarriage_Pad_Width','Thumb',\\\n",
    "               'Backhoe_Mounting', 'Blade_Type', 'Differential_Type','Steering_Controls',\\\n",
    "                'state', 'MachineID', 'saledate', 'UsageBand', \\\n",
    "                'fiBaseModel', 'fiProductClassDesc', 'ModelID', 'YearMade']\n",
    "\n",
    "df.drop(drop_columns, axis=1, inplace=True)\n",
    "\n",
    "\n",
    "\n",
    "# Convert 'none or unspecified', and 'no' to NaNs\n",
    "# nans_columns = ['fiModelDesc','Enclosure','Forks','Pad_Type','Ride_Control','Stick','Transmission','Turbocharged',\\\n",
    "#                'Blade_Extension','Blade_Width','Enclosure_Type','Engine_Horsepower','Pushblock',\\\n",
    "#                'Ripper','Scarifier','Coupler','Track_Type','Undercarriage_Pad_Width','Thumb',\\\n",
    "#                'Backhoe_Mounting', 'Blade_Type', 'Differential_Type','Steering_Controls','UsageBand',\n",
    "#                 'state', 'ProductGroup', 'ProductSize', 'saledate', 'ModelID', 'YearMade']\n",
    "\n",
    "\n",
    "#  'MachineHoursCurrentMeter' INCLUDED BY DEFAULT\n",
    "\n",
    "#Short Version\n",
    "nans_columns = ['ProductGroup', 'ProductSize']\n",
    "\n",
    "for column in nans_columns:\n",
    "    combine_nans(df[column])\n",
    "\n",
    "# Make dummies on these columns\n",
    "\n",
    "df = pd.get_dummies(df, columns=nans_columns, drop_first=True)\n",
    "\n",
    "# # Fix Drive system\n",
    "# nan_idx = df['Drive_System'] == \"No\"\n",
    "# df['Drive_System'][nan_idx] = \"Two Wheel Drive\"\n",
    "\n",
    "#Fix Machine Hours\n",
    "# zero_idx = df['MachineHoursCurrentMeter'] == np.NaN\n",
    "# df['MachineHoursCurrentMeter'][zero_idx] = 0.0\n",
    "\n",
    "df.fillna(0.0,inplace=True)\n",
    "\n",
    "dfbackup = df.copy()"
   ]
  },
  {
   "cell_type": "code",
   "execution_count": 109,
   "metadata": {
    "collapsed": false,
    "deletable": true,
    "editable": true
   },
   "outputs": [
    {
     "data": {
      "text/plain": [
       "Index([u'MachineHoursCurrentMeter', u'ProductGroup_MG', u'ProductGroup_SSL',\n",
       "       u'ProductGroup_TEX', u'ProductGroup_TTT', u'ProductGroup_WL',\n",
       "       u'ProductSize_Large', u'ProductSize_Large / Medium',\n",
       "       u'ProductSize_Medium', u'ProductSize_Mini', u'ProductSize_Small'],\n",
       "      dtype='object')"
      ]
     },
     "execution_count": 109,
     "metadata": {},
     "output_type": "execute_result"
    }
   ],
   "source": [
    "df.columns"
   ]
  },
  {
   "cell_type": "markdown",
   "metadata": {
    "deletable": true,
    "editable": true
   },
   "source": [
    "# The Models"
   ]
  },
  {
   "cell_type": "code",
   "execution_count": 110,
   "metadata": {
    "collapsed": false,
    "deletable": true,
    "editable": true
   },
   "outputs": [],
   "source": [
    "def rmsle_scoring(estimator, X, y):\n",
    "    predictions = estimator.predict(X)\n",
    "    return np.sqrt(np.mean((np.log(predictions+1) - np.log(y+1)) ** 2))"
   ]
  },
  {
   "cell_type": "code",
   "execution_count": 111,
   "metadata": {
    "collapsed": false,
    "deletable": true,
    "editable": true
   },
   "outputs": [],
   "source": [
    "from sklearn.ensemble import GradientBoostingRegressor, RandomForestRegressor, AdaBoostRegressor\n",
    "from sklearn.model_selection import GridSearchCV"
   ]
  },
  {
   "cell_type": "code",
   "execution_count": 112,
   "metadata": {
    "collapsed": false,
    "deletable": true,
    "editable": true
   },
   "outputs": [],
   "source": [
    "X_train, X_test, y_train, y_test = train_test_split(df, salesdf, train_size=0.10)\n",
    "X, y = np.array(df), np.array(salesdf)"
   ]
  },
  {
   "cell_type": "markdown",
   "metadata": {
    "deletable": true,
    "editable": true
   },
   "source": [
    "## BEST PARAMETER LOG\n",
    "\n",
    "\n",
    "\n",
    "#### FEATURES\n",
    "```\n",
    "Index([u'MachineHoursCurrentMeter', u'ProductGroup_MG', u'ProductGroup_SSL',\n",
    "       u'ProductGroup_TEX', u'ProductGroup_TTT', u'ProductGroup_WL',\n",
    "       u'ProductSize_Large', u'ProductSize_Large / Medium',\n",
    "       u'ProductSize_Medium', u'ProductSize_Mini',\n",
    "       ...\n",
    "       u'ModelID_9864', u'ModelID_9865', u'ModelID_9866', u'ModelID_9867',\n",
    "       u'ModelID_9868', u'ModelID_990', u'ModelID_993', u'ModelID_998',\n",
    "       u'ModelID_999', u'ModelID_9992'],\n",
    "      dtype='object', length=5228)\n",
    "      ```\n",
    "\n",
    "##### RF\n",
    "```\n",
    "0.35794879312573097,\n",
    "        {'max_leaf_nodes': None, 'min_samples_leaf': 1, 'n_estimators': 150, 'min_samples_split': 12, 'random_state': 1, 'criterion': 'mse', 'max_features': 'auto', 'max_depth': None}],\n",
    "       [0.3585618911336762,\n",
    "        {'max_leaf_nodes': None, 'min_samples_leaf': 1, 'n_estimators': 50, 'min_samples_split': 12, 'random_state': 1, 'criterion': 'mse', 'max_features': 'auto', 'max_depth': None}],\n",
    "       [0.3592954531377736,\n",
    "        {'max_leaf_nodes': None, 'min_samples_leaf': 1, 'n_estimators': 150, 'min_samples_split': 2, 'random_state': 1, 'criterion': 'mse', 'max_features': 'auto', 'max_depth': None}],\n",
    "       [0.35997603137046913,\n",
    "```\n",
    "\n",
    "\n",
    "##### GB\n",
    "```\n",
    "0.3599806489907602,\n",
    "        {'loss': 'ls', 'max_leaf_nodes': None, 'learning_rate': 1, 'min_samples_leaf': 1, 'n_estimators': 2000, 'subsample': 1.0, 'min_samples_split': 2, 'max_depth': 1}],\n",
    "       [0.41028525852722547,\n",
    "        {'loss': 'ls', 'max_leaf_nodes': None, 'learning_rate': 1, 'min_samples_leaf': 1, 'n_estimators': 500, 'subsample': 1.0, 'min_samples_split': 2, 'max_depth': 1}],\n",
    "       [0.47693134334473286,\n",
    "        {'loss': 'ls', 'max_leaf_nodes': None, 'learning_rate': 1, 'min_samples_leaf': 1, 'n_estimators': 100, 'subsample': 1.0, 'min_samples_split': 2, 'max_depth': 1}],\n",
    "       [0.5438418681418746,\n",
    "        {'loss': 'ls', 'max_leaf_nodes': None, 'learning_rate': 0.01, 'min_samples_leaf': 1, 'n_estimators': 2000, 'subsample': 1.0, 'min_samples_split': 2, 'max_depth': 1}],\n",
    "       [0.6032481177380623,\n",
    "        {'loss': 'ls', 'max_leaf_nodes': None, 'learning_rate': 0.01, 'min_samples_leaf': 1, 'n_estimators': 500, 'subsample': 1.0, 'min_samples_split': 2, 'max_depth': 1}],\n",
    "       [0.6776746206476049,\n",
    "```\n",
    "\n",
    "\n",
    "##### ADA\n",
    "\n",
    "\n",
    "LESS Grid search params\n",
    "ALTERNATE FEATURES INSTEAD"
   ]
  },
  {
   "cell_type": "markdown",
   "metadata": {
    "deletable": true,
    "editable": true
   },
   "source": [
    "# RandomForest Grid"
   ]
  },
  {
   "cell_type": "code",
   "execution_count": null,
   "metadata": {
    "collapsed": false,
    "deletable": true,
    "editable": true
   },
   "outputs": [
    {
     "name": "stdout",
     "output_type": "stream",
     "text": [
      "Fitting 3 folds for each of 36 candidates, totalling 108 fits\n",
      "[CV] max_leaf_nodes=None, min_samples_leaf=1, n_estimators=150, max_features=auto, random_state=1, criterion=mse, min_samples_split=2, max_depth=None \n",
      "[CV] max_leaf_nodes=None, min_samples_leaf=1, n_estimators=150, max_features=auto, random_state=1, criterion=mse, min_samples_split=2, max_depth=None \n",
      "[CV] max_leaf_nodes=None, min_samples_leaf=1, n_estimators=150, max_features=auto, random_state=1, criterion=mse, min_samples_split=2, max_depth=None \n",
      "[CV] max_leaf_nodes=None, min_samples_leaf=1, n_estimators=50, max_features=auto, random_state=1, criterion=mse, min_samples_split=2, max_depth=None \n",
      "[CV]  max_leaf_nodes=None, min_samples_leaf=1, n_estimators=50, max_features=auto, random_state=1, criterion=mse, min_samples_split=2, max_depth=None, score=0.547207, total=  15.6s\n",
      "[CV] max_leaf_nodes=None, min_samples_leaf=1, n_estimators=50, max_features=auto, random_state=1, criterion=mse, min_samples_split=2, max_depth=None \n",
      "[CV]  max_leaf_nodes=None, min_samples_leaf=1, n_estimators=50, max_features=auto, random_state=1, criterion=mse, min_samples_split=2, max_depth=None, score=0.556538, total=  17.8s\n",
      "[CV] max_leaf_nodes=None, min_samples_leaf=1, n_estimators=50, max_features=auto, random_state=1, criterion=mse, min_samples_split=2, max_depth=None \n",
      "[CV]  max_leaf_nodes=None, min_samples_leaf=1, n_estimators=150, max_features=auto, random_state=1, criterion=mse, min_samples_split=2, max_depth=None, score=0.542975, total=  41.1s\n",
      "[CV] max_leaf_nodes=None, min_samples_leaf=1, n_estimators=500, max_features=auto, random_state=1, criterion=mse, min_samples_split=2, max_depth=None \n",
      "[CV]  max_leaf_nodes=None, min_samples_leaf=1, n_estimators=150, max_features=auto, random_state=1, criterion=mse, min_samples_split=2, max_depth=None, score=0.546965, total=  46.8s\n",
      "[CV] max_leaf_nodes=None, min_samples_leaf=1, n_estimators=500, max_features=auto, random_state=1, criterion=mse, min_samples_split=2, max_depth=None \n",
      "[CV]  max_leaf_nodes=None, min_samples_leaf=1, n_estimators=50, max_features=auto, random_state=1, criterion=mse, min_samples_split=2, max_depth=None, score=0.543241, total=  13.5s\n",
      "[CV] max_leaf_nodes=None, min_samples_leaf=1, n_estimators=500, max_features=auto, random_state=1, criterion=mse, min_samples_split=2, max_depth=None \n"
     ]
    },
    {
     "name": "stderr",
     "output_type": "stream",
     "text": [
      "[Parallel(n_jobs=-1)]: Done   5 tasks      | elapsed:   52.1s\n"
     ]
    },
    {
     "name": "stdout",
     "output_type": "stream",
     "text": [
      "[CV]  max_leaf_nodes=None, min_samples_leaf=1, n_estimators=150, max_features=auto, random_state=1, criterion=mse, min_samples_split=2, max_depth=None, score=0.556521, total=  53.1s\n",
      "[CV] max_leaf_nodes=None, min_samples_leaf=1, n_estimators=1000, max_features=auto, random_state=1, criterion=mse, min_samples_split=2, max_depth=None \n",
      "[CV]  max_leaf_nodes=None, min_samples_leaf=1, n_estimators=500, max_features=auto, random_state=1, criterion=mse, min_samples_split=2, max_depth=None, score=0.542847, total= 2.3min\n",
      "[CV] max_leaf_nodes=None, min_samples_leaf=1, n_estimators=1000, max_features=auto, random_state=1, criterion=mse, min_samples_split=2, max_depth=None \n",
      "[CV]  max_leaf_nodes=None, min_samples_leaf=1, n_estimators=500, max_features=auto, random_state=1, criterion=mse, min_samples_split=2, max_depth=None, score=0.546845, total= 2.7min\n",
      "[CV] max_leaf_nodes=None, min_samples_leaf=1, n_estimators=1000, max_features=auto, random_state=1, criterion=mse, min_samples_split=2, max_depth=None \n",
      "[CV]  max_leaf_nodes=None, min_samples_leaf=1, n_estimators=500, max_features=auto, random_state=1, criterion=mse, min_samples_split=2, max_depth=None, score=0.556482, total= 3.0min\n",
      "[CV] max_leaf_nodes=None, min_samples_leaf=1, n_estimators=150, max_features=auto, random_state=1, criterion=mse, min_samples_split=12, max_depth=None \n",
      "[CV]  max_leaf_nodes=None, min_samples_leaf=1, n_estimators=150, max_features=auto, random_state=1, criterion=mse, min_samples_split=12, max_depth=None, score=0.539996, total=  45.0s\n",
      "[CV] max_leaf_nodes=None, min_samples_leaf=1, n_estimators=150, max_features=auto, random_state=1, criterion=mse, min_samples_split=12, max_depth=None \n"
     ]
    },
    {
     "name": "stderr",
     "output_type": "stream",
     "text": [
      "[Parallel(n_jobs=-1)]: Done  10 tasks      | elapsed:  5.0min\n"
     ]
    },
    {
     "name": "stdout",
     "output_type": "stream",
     "text": [
      "[CV]  max_leaf_nodes=None, min_samples_leaf=1, n_estimators=150, max_features=auto, random_state=1, criterion=mse, min_samples_split=12, max_depth=None, score=0.556592, total=  49.7s\n",
      "[CV] max_leaf_nodes=None, min_samples_leaf=1, n_estimators=150, max_features=auto, random_state=1, criterion=mse, min_samples_split=12, max_depth=None \n",
      "[CV]  max_leaf_nodes=None, min_samples_leaf=1, n_estimators=150, max_features=auto, random_state=1, criterion=mse, min_samples_split=12, max_depth=None, score=0.534654, total=  39.9s\n",
      "[CV] max_leaf_nodes=None, min_samples_leaf=1, n_estimators=50, max_features=auto, random_state=1, criterion=mse, min_samples_split=12, max_depth=None \n",
      "[CV]  max_leaf_nodes=None, min_samples_leaf=1, n_estimators=50, max_features=auto, random_state=1, criterion=mse, min_samples_split=12, max_depth=None, score=0.540077, total=  15.9s\n",
      "[CV] max_leaf_nodes=None, min_samples_leaf=1, n_estimators=50, max_features=auto, random_state=1, criterion=mse, min_samples_split=12, max_depth=None \n",
      "[CV]  max_leaf_nodes=None, min_samples_leaf=1, n_estimators=1000, max_features=auto, random_state=1, criterion=mse, min_samples_split=2, max_depth=None, score=0.546813, total= 5.4min\n",
      "[CV] max_leaf_nodes=None, min_samples_leaf=1, n_estimators=50, max_features=auto, random_state=1, criterion=mse, min_samples_split=12, max_depth=None \n",
      "[CV]  max_leaf_nodes=None, min_samples_leaf=1, n_estimators=50, max_features=auto, random_state=1, criterion=mse, min_samples_split=12, max_depth=None, score=0.534835, total=  13.6s\n",
      "[CV] max_leaf_nodes=None, min_samples_leaf=1, n_estimators=500, max_features=auto, random_state=1, criterion=mse, min_samples_split=12, max_depth=None \n",
      "[CV]  max_leaf_nodes=None, min_samples_leaf=1, n_estimators=50, max_features=auto, random_state=1, criterion=mse, min_samples_split=12, max_depth=None, score=0.556600, total=  17.1s\n",
      "[CV] max_leaf_nodes=None, min_samples_leaf=1, n_estimators=500, max_features=auto, random_state=1, criterion=mse, min_samples_split=12, max_depth=None \n",
      "[CV]  max_leaf_nodes=None, min_samples_leaf=1, n_estimators=1000, max_features=auto, random_state=1, criterion=mse, min_samples_split=2, max_depth=None, score=0.542792, total= 4.7min\n"
     ]
    },
    {
     "name": "stderr",
     "output_type": "stream",
     "text": [
      "[Parallel(n_jobs=-1)]: Done  17 tasks      | elapsed:  8.9min\n"
     ]
    },
    {
     "name": "stdout",
     "output_type": "stream",
     "text": [
      "[CV] max_leaf_nodes=None, min_samples_leaf=1, n_estimators=500, max_features=auto, random_state=1, criterion=mse, min_samples_split=12, max_depth=None \n",
      "[CV]  max_leaf_nodes=None, min_samples_leaf=1, n_estimators=500, max_features=auto, random_state=1, criterion=mse, min_samples_split=12, max_depth=None, score=0.539928, total= 2.4min\n",
      "[CV] max_leaf_nodes=None, min_samples_leaf=1, n_estimators=1000, max_features=auto, random_state=1, criterion=mse, min_samples_split=12, max_depth=None \n",
      "[CV]  max_leaf_nodes=None, min_samples_leaf=1, n_estimators=500, max_features=auto, random_state=1, criterion=mse, min_samples_split=12, max_depth=None, score=0.556553, total= 2.8min\n",
      "[CV] max_leaf_nodes=None, min_samples_leaf=1, n_estimators=1000, max_features=auto, random_state=1, criterion=mse, min_samples_split=12, max_depth=None \n",
      "[CV]  max_leaf_nodes=None, min_samples_leaf=1, n_estimators=1000, max_features=auto, random_state=1, criterion=mse, min_samples_split=2, max_depth=None, score=0.556483, total= 6.1min\n",
      "[CV] max_leaf_nodes=None, min_samples_leaf=1, n_estimators=1000, max_features=auto, random_state=1, criterion=mse, min_samples_split=12, max_depth=None \n",
      "[CV]  max_leaf_nodes=None, min_samples_leaf=1, n_estimators=500, max_features=auto, random_state=1, criterion=mse, min_samples_split=12, max_depth=None, score=0.534597, total= 2.2min\n",
      "[CV] max_leaf_nodes=None, min_samples_leaf=1, n_estimators=150, max_features=auto, random_state=1, criterion=mse, min_samples_split=20, max_depth=None \n",
      "[CV]  max_leaf_nodes=None, min_samples_leaf=1, n_estimators=150, max_features=auto, random_state=1, criterion=mse, min_samples_split=20, max_depth=None, score=0.538509, total=  43.1s\n",
      "[CV] max_leaf_nodes=None, min_samples_leaf=1, n_estimators=150, max_features=auto, random_state=1, criterion=mse, min_samples_split=20, max_depth=None \n",
      "[CV]  max_leaf_nodes=None, min_samples_leaf=1, n_estimators=150, max_features=auto, random_state=1, criterion=mse, min_samples_split=20, max_depth=None, score=0.556698, total=  49.8s\n",
      "[CV] max_leaf_nodes=None, min_samples_leaf=1, n_estimators=150, max_features=auto, random_state=1, criterion=mse, min_samples_split=20, max_depth=None \n",
      "[CV]  max_leaf_nodes=None, min_samples_leaf=1, n_estimators=150, max_features=auto, random_state=1, criterion=mse, min_samples_split=20, max_depth=None, score=0.533088, total=  42.9s\n",
      "[CV] max_leaf_nodes=None, min_samples_leaf=1, n_estimators=50, max_features=auto, random_state=1, criterion=mse, min_samples_split=20, max_depth=None \n"
     ]
    },
    {
     "name": "stderr",
     "output_type": "stream",
     "text": [
      "[Parallel(n_jobs=-1)]: Done  24 tasks      | elapsed: 13.7min\n"
     ]
    },
    {
     "name": "stdout",
     "output_type": "stream",
     "text": [
      "[CV]  max_leaf_nodes=None, min_samples_leaf=1, n_estimators=50, max_features=auto, random_state=1, criterion=mse, min_samples_split=20, max_depth=None, score=0.538589, total=  16.3s\n",
      "[CV] max_leaf_nodes=None, min_samples_leaf=1, n_estimators=50, max_features=auto, random_state=1, criterion=mse, min_samples_split=20, max_depth=None \n",
      "[CV]  max_leaf_nodes=None, min_samples_leaf=1, n_estimators=50, max_features=auto, random_state=1, criterion=mse, min_samples_split=20, max_depth=None, score=0.556691, total=  17.9s\n",
      "[CV] max_leaf_nodes=None, min_samples_leaf=1, n_estimators=50, max_features=auto, random_state=1, criterion=mse, min_samples_split=20, max_depth=None \n",
      "[CV]  max_leaf_nodes=None, min_samples_leaf=1, n_estimators=50, max_features=auto, random_state=1, criterion=mse, min_samples_split=20, max_depth=None, score=0.533232, total=  14.4s\n",
      "[CV] max_leaf_nodes=None, min_samples_leaf=1, n_estimators=500, max_features=auto, random_state=1, criterion=mse, min_samples_split=20, max_depth=None \n",
      "[CV]  max_leaf_nodes=None, min_samples_leaf=1, n_estimators=1000, max_features=auto, random_state=1, criterion=mse, min_samples_split=12, max_depth=None, score=0.534562, total= 4.5min\n",
      "[CV] max_leaf_nodes=None, min_samples_leaf=1, n_estimators=500, max_features=auto, random_state=1, criterion=mse, min_samples_split=20, max_depth=None \n",
      "[CV]  max_leaf_nodes=None, min_samples_leaf=1, n_estimators=1000, max_features=auto, random_state=1, criterion=mse, min_samples_split=12, max_depth=None, score=0.539902, total= 5.1min\n",
      "[CV] max_leaf_nodes=None, min_samples_leaf=1, n_estimators=500, max_features=auto, random_state=1, criterion=mse, min_samples_split=20, max_depth=None \n",
      "[CV]  max_leaf_nodes=None, min_samples_leaf=1, n_estimators=1000, max_features=auto, random_state=1, criterion=mse, min_samples_split=12, max_depth=None, score=0.556552, total= 5.8min\n",
      "[CV] max_leaf_nodes=None, min_samples_leaf=1, n_estimators=1000, max_features=auto, random_state=1, criterion=mse, min_samples_split=20, max_depth=None \n",
      "[CV]  max_leaf_nodes=None, min_samples_leaf=1, n_estimators=500, max_features=auto, random_state=1, criterion=mse, min_samples_split=20, max_depth=None, score=0.538432, total= 2.6min\n",
      "[CV] max_leaf_nodes=None, min_samples_leaf=1, n_estimators=1000, max_features=auto, random_state=1, criterion=mse, min_samples_split=20, max_depth=None \n",
      "[CV]  max_leaf_nodes=None, min_samples_leaf=1, n_estimators=500, max_features=auto, random_state=1, criterion=mse, min_samples_split=20, max_depth=None, score=0.533047, total= 2.3min\n",
      "[CV] max_leaf_nodes=None, min_samples_leaf=1, n_estimators=1000, max_features=auto, random_state=1, criterion=mse, min_samples_split=20, max_depth=None \n",
      "[CV]  max_leaf_nodes=None, min_samples_leaf=1, n_estimators=500, max_features=auto, random_state=1, criterion=mse, min_samples_split=20, max_depth=None, score=0.556654, total=44.5min\n",
      "[CV] max_leaf_nodes=None, min_samples_leaf=1, n_estimators=150, max_features=auto, random_state=1, criterion=mse, min_samples_split=2, max_depth=3 \n"
     ]
    },
    {
     "name": "stderr",
     "output_type": "stream",
     "text": [
      "[Parallel(n_jobs=-1)]: Done  33 tasks      | elapsed: 60.2min\n"
     ]
    },
    {
     "name": "stdout",
     "output_type": "stream",
     "text": [
      "[CV]  max_leaf_nodes=None, min_samples_leaf=1, n_estimators=150, max_features=auto, random_state=1, criterion=mse, min_samples_split=2, max_depth=3, score=0.581681, total=  18.4s\n",
      "[CV] max_leaf_nodes=None, min_samples_leaf=1, n_estimators=150, max_features=auto, random_state=1, criterion=mse, min_samples_split=2, max_depth=3 \n",
      "[CV]  max_leaf_nodes=None, min_samples_leaf=1, n_estimators=150, max_features=auto, random_state=1, criterion=mse, min_samples_split=2, max_depth=3, score=0.610074, total=  19.2s\n",
      "[CV] max_leaf_nodes=None, min_samples_leaf=1, n_estimators=150, max_features=auto, random_state=1, criterion=mse, min_samples_split=2, max_depth=3 \n",
      "[CV]  max_leaf_nodes=None, min_samples_leaf=1, n_estimators=150, max_features=auto, random_state=1, criterion=mse, min_samples_split=2, max_depth=3, score=0.602381, total=  17.2s\n",
      "[CV] max_leaf_nodes=None, min_samples_leaf=1, n_estimators=50, max_features=auto, random_state=1, criterion=mse, min_samples_split=2, max_depth=3 \n",
      "[CV]  max_leaf_nodes=None, min_samples_leaf=1, n_estimators=50, max_features=auto, random_state=1, criterion=mse, min_samples_split=2, max_depth=3, score=0.581657, total=   6.8s\n",
      "[CV] max_leaf_nodes=None, min_samples_leaf=1, n_estimators=50, max_features=auto, random_state=1, criterion=mse, min_samples_split=2, max_depth=3 \n",
      "[CV]  max_leaf_nodes=None, min_samples_leaf=1, n_estimators=50, max_features=auto, random_state=1, criterion=mse, min_samples_split=2, max_depth=3, score=0.610121, total=   6.4s\n",
      "[CV] max_leaf_nodes=None, min_samples_leaf=1, n_estimators=50, max_features=auto, random_state=1, criterion=mse, min_samples_split=2, max_depth=3 \n",
      "[CV]  max_leaf_nodes=None, min_samples_leaf=1, n_estimators=50, max_features=auto, random_state=1, criterion=mse, min_samples_split=2, max_depth=3, score=0.602455, total=   5.8s\n",
      "[CV] max_leaf_nodes=None, min_samples_leaf=1, n_estimators=500, max_features=auto, random_state=1, criterion=mse, min_samples_split=2, max_depth=3 \n",
      "[CV]  max_leaf_nodes=None, min_samples_leaf=1, n_estimators=500, max_features=auto, random_state=1, criterion=mse, min_samples_split=2, max_depth=3, score=0.581672, total= 1.0min\n",
      "[CV] max_leaf_nodes=None, min_samples_leaf=1, n_estimators=500, max_features=auto, random_state=1, criterion=mse, min_samples_split=2, max_depth=3 \n",
      "[CV]  max_leaf_nodes=None, min_samples_leaf=1, n_estimators=1000, max_features=auto, random_state=1, criterion=mse, min_samples_split=20, max_depth=None, score=0.538409, total=46.5min\n",
      "[CV] max_leaf_nodes=None, min_samples_leaf=1, n_estimators=500, max_features=auto, random_state=1, criterion=mse, min_samples_split=2, max_depth=3 \n",
      "[CV]  max_leaf_nodes=None, min_samples_leaf=1, n_estimators=500, max_features=auto, random_state=1, criterion=mse, min_samples_split=2, max_depth=3, score=0.610043, total= 1.0min\n",
      "[CV] max_leaf_nodes=None, min_samples_leaf=1, n_estimators=1000, max_features=auto, random_state=1, criterion=mse, min_samples_split=2, max_depth=3 \n"
     ]
    },
    {
     "name": "stderr",
     "output_type": "stream",
     "text": [
      "[Parallel(n_jobs=-1)]: Done  42 tasks      | elapsed: 63.7min\n"
     ]
    },
    {
     "name": "stdout",
     "output_type": "stream",
     "text": [
      "[CV]  max_leaf_nodes=None, min_samples_leaf=1, n_estimators=1000, max_features=auto, random_state=1, criterion=mse, min_samples_split=20, max_depth=None, score=0.533012, total=45.9min\n",
      "[CV] max_leaf_nodes=None, min_samples_leaf=1, n_estimators=1000, max_features=auto, random_state=1, criterion=mse, min_samples_split=2, max_depth=3 \n",
      "[CV]  max_leaf_nodes=None, min_samples_leaf=1, n_estimators=500, max_features=auto, random_state=1, criterion=mse, min_samples_split=2, max_depth=3, score=0.602357, total=  55.6s\n",
      "[CV] max_leaf_nodes=None, min_samples_leaf=1, n_estimators=1000, max_features=auto, random_state=1, criterion=mse, min_samples_split=2, max_depth=3 \n",
      "[CV]  max_leaf_nodes=None, min_samples_leaf=1, n_estimators=1000, max_features=auto, random_state=1, criterion=mse, min_samples_split=20, max_depth=None, score=0.556656, total=47.1min\n",
      "[CV] max_leaf_nodes=None, min_samples_leaf=1, n_estimators=150, max_features=auto, random_state=1, criterion=mse, min_samples_split=12, max_depth=3 \n",
      "[CV]  max_leaf_nodes=None, min_samples_leaf=1, n_estimators=150, max_features=auto, random_state=1, criterion=mse, min_samples_split=12, max_depth=3, score=0.581681, total=  23.0s\n",
      "[CV] max_leaf_nodes=None, min_samples_leaf=1, n_estimators=150, max_features=auto, random_state=1, criterion=mse, min_samples_split=12, max_depth=3 \n",
      "[CV]  max_leaf_nodes=None, min_samples_leaf=1, n_estimators=150, max_features=auto, random_state=1, criterion=mse, min_samples_split=12, max_depth=3, score=0.610074, total=  24.0s\n",
      "[CV] max_leaf_nodes=None, min_samples_leaf=1, n_estimators=150, max_features=auto, random_state=1, criterion=mse, min_samples_split=12, max_depth=3 \n",
      "[CV]  max_leaf_nodes=None, min_samples_leaf=1, n_estimators=1000, max_features=auto, random_state=1, criterion=mse, min_samples_split=2, max_depth=3, score=0.581665, total= 2.2min\n",
      "[CV] max_leaf_nodes=None, min_samples_leaf=1, n_estimators=50, max_features=auto, random_state=1, criterion=mse, min_samples_split=12, max_depth=3 \n",
      "[CV]  max_leaf_nodes=None, min_samples_leaf=1, n_estimators=150, max_features=auto, random_state=1, criterion=mse, min_samples_split=12, max_depth=3, score=0.602381, total=  20.4s\n",
      "[CV] max_leaf_nodes=None, min_samples_leaf=1, n_estimators=50, max_features=auto, random_state=1, criterion=mse, min_samples_split=12, max_depth=3 \n",
      "[CV]  max_leaf_nodes=None, min_samples_leaf=1, n_estimators=50, max_features=auto, random_state=1, criterion=mse, min_samples_split=12, max_depth=3, score=0.581657, total=   7.7s\n",
      "[CV] max_leaf_nodes=None, min_samples_leaf=1, n_estimators=50, max_features=auto, random_state=1, criterion=mse, min_samples_split=12, max_depth=3 \n",
      "[CV]  max_leaf_nodes=None, min_samples_leaf=1, n_estimators=50, max_features=auto, random_state=1, criterion=mse, min_samples_split=12, max_depth=3, score=0.610121, total=   8.1s\n",
      "[CV] max_leaf_nodes=None, min_samples_leaf=1, n_estimators=500, max_features=auto, random_state=1, criterion=mse, min_samples_split=12, max_depth=3 \n",
      "[CV]  max_leaf_nodes=None, min_samples_leaf=1, n_estimators=50, max_features=auto, random_state=1, criterion=mse, min_samples_split=12, max_depth=3, score=0.602455, total=   6.8s\n",
      "[CV] max_leaf_nodes=None, min_samples_leaf=1, n_estimators=500, max_features=auto, random_state=1, criterion=mse, min_samples_split=12, max_depth=3 \n",
      "[CV]  max_leaf_nodes=None, min_samples_leaf=1, n_estimators=1000, max_features=auto, random_state=1, criterion=mse, min_samples_split=2, max_depth=3, score=0.610006, total= 2.4min\n",
      "[CV] max_leaf_nodes=None, min_samples_leaf=1, n_estimators=500, max_features=auto, random_state=1, criterion=mse, min_samples_split=12, max_depth=3 \n"
     ]
    },
    {
     "name": "stderr",
     "output_type": "stream",
     "text": [
      "[Parallel(n_jobs=-1)]: Done  53 tasks      | elapsed: 66.8min\n"
     ]
    },
    {
     "name": "stdout",
     "output_type": "stream",
     "text": [
      "[CV]  max_leaf_nodes=None, min_samples_leaf=1, n_estimators=1000, max_features=auto, random_state=1, criterion=mse, min_samples_split=2, max_depth=3, score=0.602345, total= 2.3min\n",
      "[CV] max_leaf_nodes=None, min_samples_leaf=1, n_estimators=1000, max_features=auto, random_state=1, criterion=mse, min_samples_split=12, max_depth=3 \n",
      "[CV]  max_leaf_nodes=None, min_samples_leaf=1, n_estimators=500, max_features=auto, random_state=1, criterion=mse, min_samples_split=12, max_depth=3, score=0.581672, total= 1.2min\n",
      "[CV] max_leaf_nodes=None, min_samples_leaf=1, n_estimators=1000, max_features=auto, random_state=1, criterion=mse, min_samples_split=12, max_depth=3 \n",
      "[CV]  max_leaf_nodes=None, min_samples_leaf=1, n_estimators=500, max_features=auto, random_state=1, criterion=mse, min_samples_split=12, max_depth=3, score=0.610043, total= 1.3min\n",
      "[CV] max_leaf_nodes=None, min_samples_leaf=1, n_estimators=1000, max_features=auto, random_state=1, criterion=mse, min_samples_split=12, max_depth=3 \n",
      "[CV]  max_leaf_nodes=None, min_samples_leaf=1, n_estimators=500, max_features=auto, random_state=1, criterion=mse, min_samples_split=12, max_depth=3, score=0.602357, total= 1.1min\n",
      "[CV] max_leaf_nodes=None, min_samples_leaf=1, n_estimators=150, max_features=auto, random_state=1, criterion=mse, min_samples_split=20, max_depth=3 \n",
      "[CV]  max_leaf_nodes=None, min_samples_leaf=1, n_estimators=150, max_features=auto, random_state=1, criterion=mse, min_samples_split=20, max_depth=3, score=0.581681, total=  23.5s\n",
      "[CV] max_leaf_nodes=None, min_samples_leaf=1, n_estimators=150, max_features=auto, random_state=1, criterion=mse, min_samples_split=20, max_depth=3 \n",
      "[CV]  max_leaf_nodes=None, min_samples_leaf=1, n_estimators=150, max_features=auto, random_state=1, criterion=mse, min_samples_split=20, max_depth=3, score=0.610074, total=  23.8s\n",
      "[CV] max_leaf_nodes=None, min_samples_leaf=1, n_estimators=150, max_features=auto, random_state=1, criterion=mse, min_samples_split=20, max_depth=3 \n",
      "[CV]  max_leaf_nodes=None, min_samples_leaf=1, n_estimators=150, max_features=auto, random_state=1, criterion=mse, min_samples_split=20, max_depth=3, score=0.602381, total=  21.4s\n",
      "[CV] max_leaf_nodes=None, min_samples_leaf=1, n_estimators=50, max_features=auto, random_state=1, criterion=mse, min_samples_split=20, max_depth=3 \n",
      "[CV]  max_leaf_nodes=None, min_samples_leaf=1, n_estimators=50, max_features=auto, random_state=1, criterion=mse, min_samples_split=20, max_depth=3, score=0.581657, total=   7.8s\n",
      "[CV] max_leaf_nodes=None, min_samples_leaf=1, n_estimators=50, max_features=auto, random_state=1, criterion=mse, min_samples_split=20, max_depth=3 \n",
      "[CV]  max_leaf_nodes=None, min_samples_leaf=1, n_estimators=50, max_features=auto, random_state=1, criterion=mse, min_samples_split=20, max_depth=3, score=0.610121, total=   7.9s\n",
      "[CV] max_leaf_nodes=None, min_samples_leaf=1, n_estimators=50, max_features=auto, random_state=1, criterion=mse, min_samples_split=20, max_depth=3 \n",
      "[CV]  max_leaf_nodes=None, min_samples_leaf=1, n_estimators=50, max_features=auto, random_state=1, criterion=mse, min_samples_split=20, max_depth=3, score=0.602455, total=   6.8s\n",
      "[CV] max_leaf_nodes=None, min_samples_leaf=1, n_estimators=500, max_features=auto, random_state=1, criterion=mse, min_samples_split=20, max_depth=3 \n",
      "[CV]  max_leaf_nodes=None, min_samples_leaf=1, n_estimators=1000, max_features=auto, random_state=1, criterion=mse, min_samples_split=12, max_depth=3, score=0.581665, total= 2.5min\n",
      "[CV] max_leaf_nodes=None, min_samples_leaf=1, n_estimators=500, max_features=auto, random_state=1, criterion=mse, min_samples_split=20, max_depth=3 \n"
     ]
    },
    {
     "name": "stderr",
     "output_type": "stream",
     "text": [
      "[Parallel(n_jobs=-1)]: Done  64 tasks      | elapsed: 69.7min\n"
     ]
    },
    {
     "name": "stdout",
     "output_type": "stream",
     "text": [
      "[CV]  max_leaf_nodes=None, min_samples_leaf=1, n_estimators=1000, max_features=auto, random_state=1, criterion=mse, min_samples_split=12, max_depth=3, score=0.602345, total= 2.4min\n",
      "[CV] max_leaf_nodes=None, min_samples_leaf=1, n_estimators=500, max_features=auto, random_state=1, criterion=mse, min_samples_split=20, max_depth=3 \n",
      "[CV]  max_leaf_nodes=None, min_samples_leaf=1, n_estimators=1000, max_features=auto, random_state=1, criterion=mse, min_samples_split=12, max_depth=3, score=0.610006, total= 2.6min\n",
      "[CV] max_leaf_nodes=None, min_samples_leaf=1, n_estimators=1000, max_features=auto, random_state=1, criterion=mse, min_samples_split=20, max_depth=3 \n",
      "[CV]  max_leaf_nodes=None, min_samples_leaf=1, n_estimators=500, max_features=auto, random_state=1, criterion=mse, min_samples_split=20, max_depth=3, score=0.581672, total=15.7min\n",
      "[CV] max_leaf_nodes=None, min_samples_leaf=1, n_estimators=1000, max_features=auto, random_state=1, criterion=mse, min_samples_split=20, max_depth=3 \n",
      "[CV]  max_leaf_nodes=None, min_samples_leaf=1, n_estimators=500, max_features=auto, random_state=1, criterion=mse, min_samples_split=20, max_depth=3, score=0.610043, total=15.8min\n",
      "[CV] max_leaf_nodes=None, min_samples_leaf=1, n_estimators=1000, max_features=auto, random_state=1, criterion=mse, min_samples_split=20, max_depth=3 \n",
      "[CV]  max_leaf_nodes=None, min_samples_leaf=1, n_estimators=500, max_features=auto, random_state=1, criterion=mse, min_samples_split=20, max_depth=3, score=0.602357, total=15.7min\n",
      "[CV] max_leaf_nodes=None, min_samples_leaf=1, n_estimators=150, max_features=auto, random_state=1, criterion=mse, min_samples_split=2, max_depth=5 \n",
      "[CV]  max_leaf_nodes=None, min_samples_leaf=1, n_estimators=150, max_features=auto, random_state=1, criterion=mse, min_samples_split=2, max_depth=5, score=0.552925, total=  28.0s\n",
      "[CV] max_leaf_nodes=None, min_samples_leaf=1, n_estimators=150, max_features=auto, random_state=1, criterion=mse, min_samples_split=2, max_depth=5 \n",
      "[CV]  max_leaf_nodes=None, min_samples_leaf=1, n_estimators=150, max_features=auto, random_state=1, criterion=mse, min_samples_split=2, max_depth=5, score=0.584209, total=  28.9s\n",
      "[CV] max_leaf_nodes=None, min_samples_leaf=1, n_estimators=150, max_features=auto, random_state=1, criterion=mse, min_samples_split=2, max_depth=5 \n",
      "[CV]  max_leaf_nodes=None, min_samples_leaf=1, n_estimators=1000, max_features=auto, random_state=1, criterion=mse, min_samples_split=20, max_depth=3, score=0.581665, total=16.8min\n",
      "[CV] max_leaf_nodes=None, min_samples_leaf=1, n_estimators=50, max_features=auto, random_state=1, criterion=mse, min_samples_split=2, max_depth=5 \n",
      "[CV]  max_leaf_nodes=None, min_samples_leaf=1, n_estimators=150, max_features=auto, random_state=1, criterion=mse, min_samples_split=2, max_depth=5, score=0.560220, total=  24.4s\n",
      "[CV] max_leaf_nodes=None, min_samples_leaf=1, n_estimators=50, max_features=auto, random_state=1, criterion=mse, min_samples_split=2, max_depth=5 \n",
      "[CV]  max_leaf_nodes=None, min_samples_leaf=1, n_estimators=50, max_features=auto, random_state=1, criterion=mse, min_samples_split=2, max_depth=5, score=0.552894, total=   9.0s\n",
      "[CV] max_leaf_nodes=None, min_samples_leaf=1, n_estimators=50, max_features=auto, random_state=1, criterion=mse, min_samples_split=2, max_depth=5 \n",
      "[CV]  max_leaf_nodes=None, min_samples_leaf=1, n_estimators=50, max_features=auto, random_state=1, criterion=mse, min_samples_split=2, max_depth=5, score=0.584191, total=  10.5s\n",
      "[CV] max_leaf_nodes=None, min_samples_leaf=1, n_estimators=500, max_features=auto, random_state=1, criterion=mse, min_samples_split=2, max_depth=5 \n",
      "[CV]  max_leaf_nodes=None, min_samples_leaf=1, n_estimators=50, max_features=auto, random_state=1, criterion=mse, min_samples_split=2, max_depth=5, score=0.560269, total=   9.0s\n",
      "[CV] max_leaf_nodes=None, min_samples_leaf=1, n_estimators=500, max_features=auto, random_state=1, criterion=mse, min_samples_split=2, max_depth=5 \n",
      "[CV]  max_leaf_nodes=None, min_samples_leaf=1, n_estimators=1000, max_features=auto, random_state=1, criterion=mse, min_samples_split=20, max_depth=3, score=0.602345, total= 2.1min\n",
      "[CV] max_leaf_nodes=None, min_samples_leaf=1, n_estimators=500, max_features=auto, random_state=1, criterion=mse, min_samples_split=2, max_depth=5 \n"
     ]
    },
    {
     "name": "stderr",
     "output_type": "stream",
     "text": [
      "[Parallel(n_jobs=-1)]: Done  77 tasks      | elapsed: 87.8min\n"
     ]
    },
    {
     "name": "stdout",
     "output_type": "stream",
     "text": [
      "[CV]  max_leaf_nodes=None, min_samples_leaf=1, n_estimators=1000, max_features=auto, random_state=1, criterion=mse, min_samples_split=20, max_depth=3, score=0.610006, total= 2.4min\n",
      "[CV] max_leaf_nodes=None, min_samples_leaf=1, n_estimators=1000, max_features=auto, random_state=1, criterion=mse, min_samples_split=2, max_depth=5 \n",
      "[CV]  max_leaf_nodes=None, min_samples_leaf=1, n_estimators=500, max_features=auto, random_state=1, criterion=mse, min_samples_split=2, max_depth=5, score=0.552892, total= 1.5min\n",
      "[CV] max_leaf_nodes=None, min_samples_leaf=1, n_estimators=1000, max_features=auto, random_state=1, criterion=mse, min_samples_split=2, max_depth=5 \n",
      "[CV]  max_leaf_nodes=None, min_samples_leaf=1, n_estimators=500, max_features=auto, random_state=1, criterion=mse, min_samples_split=2, max_depth=5, score=0.560227, total= 1.4min\n",
      "[CV] max_leaf_nodes=None, min_samples_leaf=1, n_estimators=1000, max_features=auto, random_state=1, criterion=mse, min_samples_split=2, max_depth=5 \n",
      "[CV]  max_leaf_nodes=None, min_samples_leaf=1, n_estimators=500, max_features=auto, random_state=1, criterion=mse, min_samples_split=2, max_depth=5, score=0.584187, total= 1.6min\n",
      "[CV] max_leaf_nodes=None, min_samples_leaf=1, n_estimators=150, max_features=auto, random_state=1, criterion=mse, min_samples_split=12, max_depth=5 \n",
      "[CV]  max_leaf_nodes=None, min_samples_leaf=1, n_estimators=150, max_features=auto, random_state=1, criterion=mse, min_samples_split=12, max_depth=5, score=0.552925, total=  28.7s\n",
      "[CV] max_leaf_nodes=None, min_samples_leaf=1, n_estimators=150, max_features=auto, random_state=1, criterion=mse, min_samples_split=12, max_depth=5 \n",
      "[CV]  max_leaf_nodes=None, min_samples_leaf=1, n_estimators=150, max_features=auto, random_state=1, criterion=mse, min_samples_split=12, max_depth=5, score=0.584209, total=  29.2s\n",
      "[CV] max_leaf_nodes=None, min_samples_leaf=1, n_estimators=150, max_features=auto, random_state=1, criterion=mse, min_samples_split=12, max_depth=5 \n",
      "[CV]  max_leaf_nodes=None, min_samples_leaf=1, n_estimators=150, max_features=auto, random_state=1, criterion=mse, min_samples_split=12, max_depth=5, score=0.560220, total=  25.6s\n",
      "[CV] max_leaf_nodes=None, min_samples_leaf=1, n_estimators=50, max_features=auto, random_state=1, criterion=mse, min_samples_split=12, max_depth=5 \n",
      "[CV]  max_leaf_nodes=None, min_samples_leaf=1, n_estimators=50, max_features=auto, random_state=1, criterion=mse, min_samples_split=12, max_depth=5, score=0.552894, total=   9.7s\n",
      "[CV] max_leaf_nodes=None, min_samples_leaf=1, n_estimators=50, max_features=auto, random_state=1, criterion=mse, min_samples_split=12, max_depth=5 \n",
      "[CV]  max_leaf_nodes=None, min_samples_leaf=1, n_estimators=50, max_features=auto, random_state=1, criterion=mse, min_samples_split=12, max_depth=5, score=0.584191, total=  10.3s\n",
      "[CV] max_leaf_nodes=None, min_samples_leaf=1, n_estimators=50, max_features=auto, random_state=1, criterion=mse, min_samples_split=12, max_depth=5 \n",
      "[CV]  max_leaf_nodes=None, min_samples_leaf=1, n_estimators=1000, max_features=auto, random_state=1, criterion=mse, min_samples_split=2, max_depth=5, score=0.552876, total= 3.1min\n",
      "[CV] max_leaf_nodes=None, min_samples_leaf=1, n_estimators=500, max_features=auto, random_state=1, criterion=mse, min_samples_split=12, max_depth=5 \n",
      "[CV]  max_leaf_nodes=None, min_samples_leaf=1, n_estimators=50, max_features=auto, random_state=1, criterion=mse, min_samples_split=12, max_depth=5, score=0.560269, total=   9.5s\n",
      "[CV] max_leaf_nodes=None, min_samples_leaf=1, n_estimators=500, max_features=auto, random_state=1, criterion=mse, min_samples_split=12, max_depth=5 \n",
      "[CV]  max_leaf_nodes=None, min_samples_leaf=1, n_estimators=1000, max_features=auto, random_state=1, criterion=mse, min_samples_split=2, max_depth=5, score=0.560223, total= 3.0min\n",
      "[CV] max_leaf_nodes=None, min_samples_leaf=1, n_estimators=500, max_features=auto, random_state=1, criterion=mse, min_samples_split=12, max_depth=5 \n",
      "[CV]  max_leaf_nodes=None, min_samples_leaf=1, n_estimators=1000, max_features=auto, random_state=1, criterion=mse, min_samples_split=2, max_depth=5, score=0.584173, total= 3.4min\n",
      "[CV] max_leaf_nodes=None, min_samples_leaf=1, n_estimators=1000, max_features=auto, random_state=1, criterion=mse, min_samples_split=12, max_depth=5 \n"
     ]
    },
    {
     "name": "stderr",
     "output_type": "stream",
     "text": [
      "[Parallel(n_jobs=-1)]: Done  90 tasks      | elapsed: 92.7min\n"
     ]
    },
    {
     "name": "stdout",
     "output_type": "stream",
     "text": [
      "[CV]  max_leaf_nodes=None, min_samples_leaf=1, n_estimators=500, max_features=auto, random_state=1, criterion=mse, min_samples_split=12, max_depth=5, score=0.552892, total= 1.7min\n",
      "[CV] max_leaf_nodes=None, min_samples_leaf=1, n_estimators=1000, max_features=auto, random_state=1, criterion=mse, min_samples_split=12, max_depth=5 \n",
      "[CV]  max_leaf_nodes=None, min_samples_leaf=1, n_estimators=500, max_features=auto, random_state=1, criterion=mse, min_samples_split=12, max_depth=5, score=0.584187, total= 1.8min\n",
      "[CV] max_leaf_nodes=None, min_samples_leaf=1, n_estimators=1000, max_features=auto, random_state=1, criterion=mse, min_samples_split=12, max_depth=5 \n",
      "[CV]  max_leaf_nodes=None, min_samples_leaf=1, n_estimators=500, max_features=auto, random_state=1, criterion=mse, min_samples_split=12, max_depth=5, score=0.560227, total= 1.5min\n",
      "[CV] max_leaf_nodes=None, min_samples_leaf=1, n_estimators=150, max_features=auto, random_state=1, criterion=mse, min_samples_split=20, max_depth=5 \n",
      "[CV]  max_leaf_nodes=None, min_samples_leaf=1, n_estimators=150, max_features=auto, random_state=1, criterion=mse, min_samples_split=20, max_depth=5, score=0.552924, total=  32.0s\n",
      "[CV] max_leaf_nodes=None, min_samples_leaf=1, n_estimators=150, max_features=auto, random_state=1, criterion=mse, min_samples_split=20, max_depth=5 \n",
      "[CV]  max_leaf_nodes=None, min_samples_leaf=1, n_estimators=150, max_features=auto, random_state=1, criterion=mse, min_samples_split=20, max_depth=5, score=0.584209, total=  33.0s\n",
      "[CV] max_leaf_nodes=None, min_samples_leaf=1, n_estimators=150, max_features=auto, random_state=1, criterion=mse, min_samples_split=20, max_depth=5 \n",
      "[CV]  max_leaf_nodes=None, min_samples_leaf=1, n_estimators=150, max_features=auto, random_state=1, criterion=mse, min_samples_split=20, max_depth=5, score=0.560220, total=  29.2s\n",
      "[CV] max_leaf_nodes=None, min_samples_leaf=1, n_estimators=50, max_features=auto, random_state=1, criterion=mse, min_samples_split=20, max_depth=5 \n",
      "[CV]  max_leaf_nodes=None, min_samples_leaf=1, n_estimators=50, max_features=auto, random_state=1, criterion=mse, min_samples_split=20, max_depth=5, score=0.552894, total=  10.8s\n",
      "[CV] max_leaf_nodes=None, min_samples_leaf=1, n_estimators=50, max_features=auto, random_state=1, criterion=mse, min_samples_split=20, max_depth=5 \n",
      "[CV]  max_leaf_nodes=None, min_samples_leaf=1, n_estimators=50, max_features=auto, random_state=1, criterion=mse, min_samples_split=20, max_depth=5, score=0.584191, total=  10.5s\n",
      "[CV] max_leaf_nodes=None, min_samples_leaf=1, n_estimators=50, max_features=auto, random_state=1, criterion=mse, min_samples_split=20, max_depth=5 \n",
      "[CV]  max_leaf_nodes=None, min_samples_leaf=1, n_estimators=50, max_features=auto, random_state=1, criterion=mse, min_samples_split=20, max_depth=5, score=0.560269, total=   7.7s\n",
      "[CV] max_leaf_nodes=None, min_samples_leaf=1, n_estimators=500, max_features=auto, random_state=1, criterion=mse, min_samples_split=20, max_depth=5 \n",
      "[CV]  max_leaf_nodes=None, min_samples_leaf=1, n_estimators=1000, max_features=auto, random_state=1, criterion=mse, min_samples_split=12, max_depth=5, score=0.552876, total= 3.4min\n",
      "[CV] max_leaf_nodes=None, min_samples_leaf=1, n_estimators=500, max_features=auto, random_state=1, criterion=mse, min_samples_split=20, max_depth=5 \n",
      "[CV]  max_leaf_nodes=None, min_samples_leaf=1, n_estimators=1000, max_features=auto, random_state=1, criterion=mse, min_samples_split=12, max_depth=5, score=0.560223, total= 3.2min\n",
      "[CV] max_leaf_nodes=None, min_samples_leaf=1, n_estimators=500, max_features=auto, random_state=1, criterion=mse, min_samples_split=20, max_depth=5 \n",
      "[CV]  max_leaf_nodes=None, min_samples_leaf=1, n_estimators=1000, max_features=auto, random_state=1, criterion=mse, min_samples_split=12, max_depth=5, score=0.584173, total=123.6min\n",
      "[CV] max_leaf_nodes=None, min_samples_leaf=1, n_estimators=1000, max_features=auto, random_state=1, criterion=mse, min_samples_split=20, max_depth=5 \n"
     ]
    }
   ],
   "source": [
    "# params = {\n",
    "#           'loss': ['ls', 'lad', 'huber', 'quantile'],\n",
    "#           'learning_rate': [0.01, 0.001, 0.0001],\n",
    "#           'n_estimators': [100, 1000],\n",
    "#           'subsample': [1.0],\n",
    "#           'min_samples_split': [2],\n",
    "#           'min_samples_leaf': [1],\n",
    "#           'max_depth': [1, 3, 5],\n",
    "#           'max_leaf_nodes': [None]\n",
    "#          }\n",
    "\n",
    "params = {\n",
    "          'criterion': ['mse'],#, 'mae'],\n",
    "          'random_state': [1],\n",
    "          'n_estimators': [150, 50, 500, 1000],\n",
    "          'min_samples_split': [2, 12, 20], #2 is fastest\n",
    "          'min_samples_leaf': [1], \n",
    "          'max_depth': [None, 3, 5],\n",
    "          'max_leaf_nodes': [None],\n",
    "          'max_features': ['auto']#, 'sqrt', 'log2']\n",
    "         }\n",
    "\n",
    "rf = RandomForestRegressor()\n",
    "\n",
    "gsrf = GridSearchCV(rf, params, cv=3, verbose=10, n_jobs=-1, scoring=rmsle_scoring)\n",
    "\n",
    "gsrf.fit(X, y)\n",
    "\n",
    "# gsrf.fit(X, y)\n",
    "\n",
    "print \"-\" * 40\n",
    "print \"BEST SCORE\"\n",
    "print \"-\" * 40\n",
    "print gsrf.best_params_\n",
    "print gsrf.best_score_\n",
    "\n",
    "# class sklearn.ensemble.RandomForestRegressor(n_estimators=10, criterion='mse',\n",
    "# max_depth=None, min_samples_split=2, min_samples_leaf=1, min_weight_fraction_leaf=0.0,\n",
    "# max_features='auto', max_leaf_nodes=None, min_impurity_split=1e-07, bootstrap=True,\n",
    "# oob_score=False, n_jobs=1, random_state=None, verbose=0, warm_start=False)"
   ]
  },
  {
   "cell_type": "markdown",
   "metadata": {
    "deletable": true,
    "editable": true
   },
   "source": [
    "# RandomForest Results and Parameters"
   ]
  },
  {
   "cell_type": "code",
   "execution_count": 1,
   "metadata": {
    "collapsed": false,
    "deletable": true,
    "editable": true,
    "scrolled": true
   },
   "outputs": [
    {
     "ename": "NameError",
     "evalue": "name 'pd' is not defined",
     "output_type": "error",
     "traceback": [
      "\u001b[0;31m---------------------------------------------------------------------------\u001b[0m",
      "\u001b[0;31mNameError\u001b[0m                                 Traceback (most recent call last)",
      "\u001b[0;32m<ipython-input-1-333dbb4ae9b6>\u001b[0m in \u001b[0;36m<module>\u001b[0;34m()\u001b[0m\n\u001b[0;32m----> 1\u001b[0;31m \u001b[0mpd\u001b[0m\u001b[0;34m.\u001b[0m\u001b[0mDataFrame\u001b[0m\u001b[0;34m(\u001b[0m\u001b[0mgsrf\u001b[0m\u001b[0;34m.\u001b[0m\u001b[0mcv_results_\u001b[0m\u001b[0;34m)\u001b[0m\u001b[0;34m.\u001b[0m\u001b[0msort_values\u001b[0m\u001b[0;34m(\u001b[0m\u001b[0;34m'mean_test_score'\u001b[0m\u001b[0;34m)\u001b[0m\u001b[0;34m.\u001b[0m\u001b[0mix\u001b[0m\u001b[0;34m[\u001b[0m\u001b[0;34m:\u001b[0m\u001b[0;34m,\u001b[0m \u001b[0;34m[\u001b[0m\u001b[0;34m'mean_test_score'\u001b[0m\u001b[0;34m,\u001b[0m \u001b[0;34m'params'\u001b[0m\u001b[0;34m]\u001b[0m\u001b[0;34m]\u001b[0m\u001b[0;34m.\u001b[0m\u001b[0mvalues\u001b[0m\u001b[0;34m\u001b[0m\u001b[0m\n\u001b[0m",
      "\u001b[0;31mNameError\u001b[0m: name 'pd' is not defined"
     ]
    }
   ],
   "source": [
    "pd.DataFrame(gsrf.cv_results_).sort_values('mean_test_score').ix[:, ['mean_test_score', 'params']].values"
   ]
  },
  {
   "cell_type": "code",
   "execution_count": 37,
   "metadata": {
    "collapsed": false,
    "deletable": true,
    "editable": true
   },
   "outputs": [
    {
     "data": {
      "text/plain": [
       "array([[ 0.,  0.,  0.,  0.,  1.],\n",
       "       [ 1.,  0.,  0.,  0.,  0.],\n",
       "       [ 0.,  1.,  0.,  0.,  0.],\n",
       "       [ 0.,  0.,  0.,  1.,  0.],\n",
       "       [ 0.,  1.,  0.,  0.,  0.]])"
      ]
     },
     "execution_count": 37,
     "metadata": {},
     "output_type": "execute_result"
    }
   ],
   "source": [
    "rem = np.zeros((5,5))\n",
    "rem[0, 4] = 1\n",
    "rem[1, 0] = 1\n",
    "rem[2, 1] = 1\n",
    "rem[3, 3] = 1\n",
    "rem[4, 1] = 1\n",
    "rem"
   ]
  },
  {
   "cell_type": "code",
   "execution_count": 38,
   "metadata": {
    "collapsed": false,
    "deletable": true,
    "editable": true
   },
   "outputs": [
    {
     "data": {
      "text/plain": [
       "array([[ 0.,  1.,  0.,  0.,  0.],\n",
       "       [ 0.,  0.,  0.,  1.,  0.],\n",
       "       [ 1.,  0.,  0.,  0.,  0.],\n",
       "       [ 0.,  0.,  1.,  0.,  0.],\n",
       "       [ 0.,  0.,  0.,  0.,  1.]])"
      ]
     },
     "execution_count": 38,
     "metadata": {},
     "output_type": "execute_result"
    }
   ],
   "source": [
    "orem = np.zeros((5,5))\n",
    "orem[0, 1] = 1\n",
    "orem[1, 3] = 1\n",
    "orem[2, 0] = 1\n",
    "orem[3, 2] = 1\n",
    "orem[4, 4] = 1\n",
    "orem"
   ]
  },
  {
   "cell_type": "markdown",
   "metadata": {
    "deletable": true,
    "editable": true
   },
   "source": [
    "# Gradient Boosting Grid Search"
   ]
  },
  {
   "cell_type": "code",
   "execution_count": null,
   "metadata": {
    "collapsed": false,
    "deletable": true,
    "editable": true,
    "scrolled": true
   },
   "outputs": [],
   "source": [
    "params = {\n",
    "          'loss': ['ls'],\n",
    "          'learning_rate': [1, 10, 0.01],\n",
    "          'n_estimators': [1000],\n",
    "          'subsample': [1.0],\n",
    "          'min_samples_split': [2],\n",
    "          'min_samples_leaf': [1],\n",
    "          'max_depth': [1],\n",
    "          'max_leaf_nodes': [None]\n",
    "         }\n",
    "\n",
    "gb = GradientBoostingRegressor()\n",
    "\n",
    "gsgb = GridSearchCV(gb, params, cv=3, verbose=10, n_jobs=-1, scoring=rmsle_scoring)\n",
    "\n",
    "gsgb.fit(X, y)\n",
    "\n",
    "\n",
    "print \"-\" * 40\n",
    "print \"BEST SCORE\"\n",
    "print \"-\" * 40\n",
    "print gsgb.best_params_\n",
    "print gsgb.best_score_"
   ]
  },
  {
   "cell_type": "markdown",
   "metadata": {
    "deletable": true,
    "editable": true
   },
   "source": [
    "# Gradient Boosting Results and Parameters"
   ]
  },
  {
   "cell_type": "code",
   "execution_count": null,
   "metadata": {
    "collapsed": false,
    "deletable": true,
    "editable": true,
    "scrolled": true
   },
   "outputs": [],
   "source": [
    "pd.DataFrame(gsgb.cv_results_).sort_values('mean_test_score').ix[:, ['mean_test_score', 'params']].values"
   ]
  },
  {
   "cell_type": "markdown",
   "metadata": {
    "deletable": true,
    "editable": true
   },
   "source": [
    "# AdaBoost.R2 Grid Search"
   ]
  },
  {
   "cell_type": "code",
   "execution_count": 34,
   "metadata": {
    "collapsed": false,
    "deletable": true,
    "editable": true,
    "scrolled": true
   },
   "outputs": [
    {
     "name": "stdout",
     "output_type": "stream",
     "text": [
      "Fitting 3 folds for each of 54 candidates, totalling 162 fits\n",
      "[CV] n_estimators=10, loss=linear, learning_rate=0.001, random_state=1 \n",
      "[CV] n_estimators=10, loss=linear, learning_rate=0.001, random_state=1 \n",
      "[CV] n_estimators=10, loss=linear, learning_rate=0.001, random_state=1 \n",
      "[CV] n_estimators=100, loss=linear, learning_rate=0.001, random_state=1 \n",
      "[CV]  n_estimators=10, loss=linear, learning_rate=0.001, random_state=1, score=0.594991, total=12.4min\n",
      "[CV] n_estimators=100, loss=linear, learning_rate=0.001, random_state=1 \n",
      "[CV]  n_estimators=10, loss=linear, learning_rate=0.001, random_state=1, score=0.591229, total=12.5min\n",
      "[CV] n_estimators=100, loss=linear, learning_rate=0.001, random_state=1 \n",
      "[CV]  n_estimators=10, loss=linear, learning_rate=0.001, random_state=1, score=0.595309, total=12.5min\n",
      "[CV] n_estimators=1000, loss=linear, learning_rate=0.001, random_state=1 \n",
      "[CV] n_estimators=1000, loss=linear, learning_rate=0.001, random_state=1 \n",
      "[CV] n_estimators=1000, loss=linear, learning_rate=0.001, random_state=1 \n",
      "[CV] n_estimators=10, loss=square, learning_rate=0.001, random_state=1 \n"
     ]
    },
    {
     "ename": "KeyboardInterrupt",
     "evalue": "",
     "output_type": "error",
     "traceback": [
      "\u001b[0;31m---------------------------------------------------------------------------\u001b[0m",
      "\u001b[0;31mKeyboardInterrupt\u001b[0m                         Traceback (most recent call last)",
      "\u001b[0;32m<ipython-input-34-6f4ff321f203>\u001b[0m in \u001b[0;36m<module>\u001b[0;34m()\u001b[0m\n\u001b[1;32m     10\u001b[0m \u001b[0mgsad\u001b[0m \u001b[0;34m=\u001b[0m \u001b[0mGridSearchCV\u001b[0m\u001b[0;34m(\u001b[0m\u001b[0mad\u001b[0m\u001b[0;34m,\u001b[0m \u001b[0mparams\u001b[0m\u001b[0;34m,\u001b[0m \u001b[0mcv\u001b[0m\u001b[0;34m=\u001b[0m\u001b[0;36m3\u001b[0m\u001b[0;34m,\u001b[0m \u001b[0mverbose\u001b[0m\u001b[0;34m=\u001b[0m\u001b[0;36m10\u001b[0m\u001b[0;34m,\u001b[0m \u001b[0mn_jobs\u001b[0m\u001b[0;34m=\u001b[0m\u001b[0;34m-\u001b[0m\u001b[0;36m1\u001b[0m\u001b[0;34m,\u001b[0m \u001b[0mscoring\u001b[0m\u001b[0;34m=\u001b[0m\u001b[0mrmsle_scoring\u001b[0m\u001b[0;34m)\u001b[0m\u001b[0;34m\u001b[0m\u001b[0m\n\u001b[1;32m     11\u001b[0m \u001b[0;34m\u001b[0m\u001b[0m\n\u001b[0;32m---> 12\u001b[0;31m \u001b[0mgsad\u001b[0m\u001b[0;34m.\u001b[0m\u001b[0mfit\u001b[0m\u001b[0;34m(\u001b[0m\u001b[0mX_train\u001b[0m\u001b[0;34m,\u001b[0m \u001b[0my_train\u001b[0m\u001b[0;34m)\u001b[0m\u001b[0;34m\u001b[0m\u001b[0m\n\u001b[0m\u001b[1;32m     13\u001b[0m \u001b[0;34m\u001b[0m\u001b[0m\n\u001b[1;32m     14\u001b[0m \u001b[0;34m\u001b[0m\u001b[0m\n",
      "\u001b[0;32m/Users/tyler/anaconda/lib/python2.7/site-packages/sklearn/model_selection/_search.pyc\u001b[0m in \u001b[0;36mfit\u001b[0;34m(self, X, y, groups)\u001b[0m\n\u001b[1;32m    943\u001b[0m             \u001b[0mtrain\u001b[0m\u001b[0;34m/\u001b[0m\u001b[0mtest\u001b[0m \u001b[0mset\u001b[0m\u001b[0;34m.\u001b[0m\u001b[0;34m\u001b[0m\u001b[0m\n\u001b[1;32m    944\u001b[0m         \"\"\"\n\u001b[0;32m--> 945\u001b[0;31m         \u001b[0;32mreturn\u001b[0m \u001b[0mself\u001b[0m\u001b[0;34m.\u001b[0m\u001b[0m_fit\u001b[0m\u001b[0;34m(\u001b[0m\u001b[0mX\u001b[0m\u001b[0;34m,\u001b[0m \u001b[0my\u001b[0m\u001b[0;34m,\u001b[0m \u001b[0mgroups\u001b[0m\u001b[0;34m,\u001b[0m \u001b[0mParameterGrid\u001b[0m\u001b[0;34m(\u001b[0m\u001b[0mself\u001b[0m\u001b[0;34m.\u001b[0m\u001b[0mparam_grid\u001b[0m\u001b[0;34m)\u001b[0m\u001b[0;34m)\u001b[0m\u001b[0;34m\u001b[0m\u001b[0m\n\u001b[0m\u001b[1;32m    946\u001b[0m \u001b[0;34m\u001b[0m\u001b[0m\n\u001b[1;32m    947\u001b[0m \u001b[0;34m\u001b[0m\u001b[0m\n",
      "\u001b[0;32m/Users/tyler/anaconda/lib/python2.7/site-packages/sklearn/model_selection/_search.pyc\u001b[0m in \u001b[0;36m_fit\u001b[0;34m(self, X, y, groups, parameter_iterable)\u001b[0m\n\u001b[1;32m    562\u001b[0m                                   \u001b[0mreturn_times\u001b[0m\u001b[0;34m=\u001b[0m\u001b[0mTrue\u001b[0m\u001b[0;34m,\u001b[0m \u001b[0mreturn_parameters\u001b[0m\u001b[0;34m=\u001b[0m\u001b[0mTrue\u001b[0m\u001b[0;34m,\u001b[0m\u001b[0;34m\u001b[0m\u001b[0m\n\u001b[1;32m    563\u001b[0m                                   error_score=self.error_score)\n\u001b[0;32m--> 564\u001b[0;31m           \u001b[0;32mfor\u001b[0m \u001b[0mparameters\u001b[0m \u001b[0;32min\u001b[0m \u001b[0mparameter_iterable\u001b[0m\u001b[0;34m\u001b[0m\u001b[0m\n\u001b[0m\u001b[1;32m    565\u001b[0m           for train, test in cv_iter)\n\u001b[1;32m    566\u001b[0m \u001b[0;34m\u001b[0m\u001b[0m\n",
      "\u001b[0;32m/Users/tyler/anaconda/lib/python2.7/site-packages/sklearn/externals/joblib/parallel.pyc\u001b[0m in \u001b[0;36m__call__\u001b[0;34m(self, iterable)\u001b[0m\n\u001b[1;32m    766\u001b[0m                 \u001b[0;31m# consumption.\u001b[0m\u001b[0;34m\u001b[0m\u001b[0;34m\u001b[0m\u001b[0m\n\u001b[1;32m    767\u001b[0m                 \u001b[0mself\u001b[0m\u001b[0;34m.\u001b[0m\u001b[0m_iterating\u001b[0m \u001b[0;34m=\u001b[0m \u001b[0mFalse\u001b[0m\u001b[0;34m\u001b[0m\u001b[0m\n\u001b[0;32m--> 768\u001b[0;31m             \u001b[0mself\u001b[0m\u001b[0;34m.\u001b[0m\u001b[0mretrieve\u001b[0m\u001b[0;34m(\u001b[0m\u001b[0;34m)\u001b[0m\u001b[0;34m\u001b[0m\u001b[0m\n\u001b[0m\u001b[1;32m    769\u001b[0m             \u001b[0;31m# Make sure that we get a last message telling us we are done\u001b[0m\u001b[0;34m\u001b[0m\u001b[0;34m\u001b[0m\u001b[0m\n\u001b[1;32m    770\u001b[0m             \u001b[0melapsed_time\u001b[0m \u001b[0;34m=\u001b[0m \u001b[0mtime\u001b[0m\u001b[0;34m.\u001b[0m\u001b[0mtime\u001b[0m\u001b[0;34m(\u001b[0m\u001b[0;34m)\u001b[0m \u001b[0;34m-\u001b[0m \u001b[0mself\u001b[0m\u001b[0;34m.\u001b[0m\u001b[0m_start_time\u001b[0m\u001b[0;34m\u001b[0m\u001b[0m\n",
      "\u001b[0;32m/Users/tyler/anaconda/lib/python2.7/site-packages/sklearn/externals/joblib/parallel.pyc\u001b[0m in \u001b[0;36mretrieve\u001b[0;34m(self)\u001b[0m\n\u001b[1;32m    717\u001b[0m                     \u001b[0mensure_ready\u001b[0m \u001b[0;34m=\u001b[0m \u001b[0mself\u001b[0m\u001b[0;34m.\u001b[0m\u001b[0m_managed_backend\u001b[0m\u001b[0;34m\u001b[0m\u001b[0m\n\u001b[1;32m    718\u001b[0m                     \u001b[0mbackend\u001b[0m\u001b[0;34m.\u001b[0m\u001b[0mabort_everything\u001b[0m\u001b[0;34m(\u001b[0m\u001b[0mensure_ready\u001b[0m\u001b[0;34m=\u001b[0m\u001b[0mensure_ready\u001b[0m\u001b[0;34m)\u001b[0m\u001b[0;34m\u001b[0m\u001b[0m\n\u001b[0;32m--> 719\u001b[0;31m                 \u001b[0;32mraise\u001b[0m \u001b[0mexception\u001b[0m\u001b[0;34m\u001b[0m\u001b[0m\n\u001b[0m\u001b[1;32m    720\u001b[0m \u001b[0;34m\u001b[0m\u001b[0m\n\u001b[1;32m    721\u001b[0m     \u001b[0;32mdef\u001b[0m \u001b[0m__call__\u001b[0m\u001b[0;34m(\u001b[0m\u001b[0mself\u001b[0m\u001b[0;34m,\u001b[0m \u001b[0miterable\u001b[0m\u001b[0;34m)\u001b[0m\u001b[0;34m:\u001b[0m\u001b[0;34m\u001b[0m\u001b[0m\n",
      "\u001b[0;31mKeyboardInterrupt\u001b[0m: "
     ]
    }
   ],
   "source": [
    "params = {\n",
    "          'loss': ['linear', 'square', 'exponential'],\n",
    "          'learning_rate': [0.001, 0.01, 0.1, 1, 10, 100],\n",
    "          'n_estimators': [10, 100, 1000],\n",
    "          'random_state': [1],\n",
    "         }\n",
    "\n",
    "ad = AdaBoostRegressor()\n",
    "\n",
    "gsad = GridSearchCV(ad, params, cv=3, verbose=10, n_jobs=-1, scoring=rmsle_scoring)\n",
    "\n",
    "gsad.fit(X_train, y_train)\n",
    "\n",
    "\n",
    "print \"-\" * 40\n",
    "print \"BEST SCORE\"\n",
    "print \"-\" * 40\n",
    "print gsad.best_params_\n",
    "print gsad.best_score_\n",
    "\n",
    "# class sklearn.ensemble.AdaBoostRegressor(base_estimator=None, \n",
    "#                                          n_estimators=50, learning_rate=1.0,\n",
    "#                                          loss='linear', random_state=None)"
   ]
  },
  {
   "cell_type": "markdown",
   "metadata": {
    "deletable": true,
    "editable": true
   },
   "source": [
    "# AdaBoost.R2 Results and Parameters"
   ]
  },
  {
   "cell_type": "code",
   "execution_count": null,
   "metadata": {
    "collapsed": false,
    "deletable": true,
    "editable": true
   },
   "outputs": [],
   "source": [
    "pd.DataFrame(gsad.cv_results_).sort_values('mean_test_score').ix[:, ['mean_test_score', 'params']].values"
   ]
  },
  {
   "cell_type": "markdown",
   "metadata": {
    "deletable": true,
    "editable": true
   },
   "source": [
    "# Begin Formatting Test"
   ]
  },
  {
   "cell_type": "code",
   "execution_count": 97,
   "metadata": {
    "collapsed": false,
    "deletable": true,
    "editable": true
   },
   "outputs": [],
   "source": [
    "tdf = pd.read_csv('test.csv')\n",
    "\n",
    "\n",
    "#Convert Datetime\n",
    "tdf['saledate'] = pd.to_datetime(tdf['saledate'])\n",
    "tdf['saledate'] = tdf['saledate'].dt.year\n",
    "tdfnew = tdf.copy()\n",
    "\n",
    "tdfnew['saledate'] = tdfnew['saledate'].astype(str)"
   ]
  },
  {
   "cell_type": "code",
   "execution_count": 98,
   "metadata": {
    "collapsed": false,
    "deletable": true,
    "editable": true
   },
   "outputs": [
    {
     "name": "stderr",
     "output_type": "stream",
     "text": [
      "/Users/tyler/anaconda/lib/python2.7/site-packages/ipykernel/__main__.py:3: SettingWithCopyWarning: \n",
      "A value is trying to be set on a copy of a slice from a DataFrame\n",
      "\n",
      "See the caveats in the documentation: http://pandas.pydata.org/pandas-docs/stable/indexing.html#indexing-view-versus-copy\n",
      "  app.launch_new_instance()\n"
     ]
    },
    {
     "data": {
      "text/plain": [
       "(11573, 56)"
      ]
     },
     "execution_count": 98,
     "metadata": {},
     "output_type": "execute_result"
    }
   ],
   "source": [
    "convert_list = ['MachineID', 'ModelID', 'auctioneerID', 'YearMade']\n",
    "for castit in convert_list:\n",
    "    tdfnew[castit] = tdfnew[castit].astype(str)\n",
    "\n",
    "tdf = tdfnew.copy()\n",
    "\n",
    "# Set SalesID as index\n",
    "# tdf.set_index(tdf['SalesID'],inplace=True,drop=False)\n",
    "\n",
    "#Convert AuctioneerID to String\n",
    "tdf['auctioneerID'] = tdf['auctioneerID'].astype(str)\n",
    "\n",
    "\n",
    "\n",
    "for column in nans_columns:\n",
    "    combine_nans(tdf[column])\n",
    "\n",
    "# Make dummies on these columns\n",
    "\n",
    "starttdf = pd.get_dummies(tdf, columns=nans_columns, drop_first=True).copy()\n",
    "\n",
    "# # Fix Drive system\n",
    "# nan_idx = df['Drive_System'] == \"No\"\n",
    "# df['Drive_System'][nan_idx] = \"Two Wheel Drive\"\n",
    "\n",
    "#Fix Machine Hours\n",
    "# zero_idx = df['MachineHoursCurrentMeter'] == np.NaN\n",
    "# df['MachineHoursCurrentMeter'][zero_idx] = 0.0\n",
    "\n",
    "starttdf.shape"
   ]
  },
  {
   "cell_type": "code",
   "execution_count": 99,
   "metadata": {
    "collapsed": false,
    "deletable": true,
    "editable": true
   },
   "outputs": [],
   "source": [
    "cols = list(df.columns)\n",
    "cols.append('SalesID')\n",
    "\n",
    "blankdf = pd.DataFrame(columns=cols).copy()\n",
    "blankdf.head() #TRAIN, 2021 columns\n",
    "mergeddf = pd.merge(blankdf, starttdf).copy()\n",
    "mergeddf.head() #TEST, 2033 columns\n",
    "testdffinal = pd.concat([mergeddf, tdf], ignore_index=False).copy()\n",
    "tdf = testdffinal.copy()\n",
    "\n",
    "tdf['YearMade'] = tdf['YearMade'].astype(int)\n",
    "\n",
    "tdf.fillna(0, inplace=True)\n",
    "\n",
    "tdf.set_index('SalesID',inplace=True)\n",
    "\n",
    "final = tdf[df.columns]"
   ]
  },
  {
   "cell_type": "code",
   "execution_count": 100,
   "metadata": {
    "collapsed": false,
    "deletable": true,
    "editable": true
   },
   "outputs": [
    {
     "data": {
      "text/html": [
       "<div>\n",
       "<table border=\"1\" class=\"dataframe\">\n",
       "  <thead>\n",
       "    <tr style=\"text-align: right;\">\n",
       "      <th></th>\n",
       "      <th>MachineHoursCurrentMeter</th>\n",
       "      <th>ProductGroup_MG</th>\n",
       "      <th>ProductGroup_SSL</th>\n",
       "      <th>ProductGroup_TEX</th>\n",
       "      <th>ProductGroup_TTT</th>\n",
       "      <th>ProductGroup_WL</th>\n",
       "    </tr>\n",
       "    <tr>\n",
       "      <th>SalesID</th>\n",
       "      <th></th>\n",
       "      <th></th>\n",
       "      <th></th>\n",
       "      <th></th>\n",
       "      <th></th>\n",
       "      <th></th>\n",
       "    </tr>\n",
       "  </thead>\n",
       "  <tbody>\n",
       "    <tr>\n",
       "      <th>1222837</th>\n",
       "      <td>0.0</td>\n",
       "      <td>0.0</td>\n",
       "      <td>0.0</td>\n",
       "      <td>0.0</td>\n",
       "      <td>0.0</td>\n",
       "      <td>0.0</td>\n",
       "    </tr>\n",
       "    <tr>\n",
       "      <th>1222839</th>\n",
       "      <td>4412.0</td>\n",
       "      <td>0.0</td>\n",
       "      <td>0.0</td>\n",
       "      <td>0.0</td>\n",
       "      <td>0.0</td>\n",
       "      <td>0.0</td>\n",
       "    </tr>\n",
       "    <tr>\n",
       "      <th>1222841</th>\n",
       "      <td>10127.0</td>\n",
       "      <td>0.0</td>\n",
       "      <td>0.0</td>\n",
       "      <td>0.0</td>\n",
       "      <td>0.0</td>\n",
       "      <td>0.0</td>\n",
       "    </tr>\n",
       "    <tr>\n",
       "      <th>1222843</th>\n",
       "      <td>4682.0</td>\n",
       "      <td>0.0</td>\n",
       "      <td>0.0</td>\n",
       "      <td>0.0</td>\n",
       "      <td>0.0</td>\n",
       "      <td>0.0</td>\n",
       "    </tr>\n",
       "    <tr>\n",
       "      <th>1222845</th>\n",
       "      <td>8150.0</td>\n",
       "      <td>0.0</td>\n",
       "      <td>0.0</td>\n",
       "      <td>0.0</td>\n",
       "      <td>0.0</td>\n",
       "      <td>0.0</td>\n",
       "    </tr>\n",
       "  </tbody>\n",
       "</table>\n",
       "</div>"
      ],
      "text/plain": [
       "         MachineHoursCurrentMeter  ProductGroup_MG  ProductGroup_SSL  \\\n",
       "SalesID                                                                \n",
       "1222837                       0.0              0.0               0.0   \n",
       "1222839                    4412.0              0.0               0.0   \n",
       "1222841                   10127.0              0.0               0.0   \n",
       "1222843                    4682.0              0.0               0.0   \n",
       "1222845                    8150.0              0.0               0.0   \n",
       "\n",
       "         ProductGroup_TEX  ProductGroup_TTT  ProductGroup_WL  \n",
       "SalesID                                                       \n",
       "1222837               0.0               0.0              0.0  \n",
       "1222839               0.0               0.0              0.0  \n",
       "1222841               0.0               0.0              0.0  \n",
       "1222843               0.0               0.0              0.0  \n",
       "1222845               0.0               0.0              0.0  "
      ]
     },
     "execution_count": 100,
     "metadata": {},
     "output_type": "execute_result"
    }
   ],
   "source": [
    "final.head()"
   ]
  },
  {
   "cell_type": "code",
   "execution_count": 101,
   "metadata": {
    "collapsed": false,
    "deletable": true,
    "editable": true
   },
   "outputs": [
    {
     "data": {
      "text/plain": [
       "(11573,)"
      ]
     },
     "execution_count": 101,
     "metadata": {},
     "output_type": "execute_result"
    }
   ],
   "source": [
    "salesid = final.reset_index()\n",
    "salearray = salesid.ix[:, 0]\n",
    "salearray.shape"
   ]
  },
  {
   "cell_type": "markdown",
   "metadata": {
    "deletable": true,
    "editable": true
   },
   "source": [
    "# FIRST TRAIN TO ENTIRE SET BEFORE PREDICTING\n",
    "# SET ESTIMATOR TO GB OR RF"
   ]
  },
  {
   "cell_type": "code",
   "execution_count": 106,
   "metadata": {
    "collapsed": false,
    "deletable": true,
    "editable": true
   },
   "outputs": [
    {
     "data": {
      "text/html": [
       "<div>\n",
       "<table border=\"1\" class=\"dataframe\">\n",
       "  <thead>\n",
       "    <tr style=\"text-align: right;\">\n",
       "      <th></th>\n",
       "      <th>SalesID</th>\n",
       "      <th>SalePrice</th>\n",
       "    </tr>\n",
       "  </thead>\n",
       "  <tbody>\n",
       "    <tr>\n",
       "      <th>count</th>\n",
       "      <td>1.157300e+04</td>\n",
       "      <td>11573.000000</td>\n",
       "    </tr>\n",
       "    <tr>\n",
       "      <th>mean</th>\n",
       "      <td>5.180809e+06</td>\n",
       "      <td>21458.834529</td>\n",
       "    </tr>\n",
       "    <tr>\n",
       "      <th>std</th>\n",
       "      <td>1.619443e+06</td>\n",
       "      <td>11567.585562</td>\n",
       "    </tr>\n",
       "    <tr>\n",
       "      <th>min</th>\n",
       "      <td>1.222837e+06</td>\n",
       "      <td>-38316.000000</td>\n",
       "    </tr>\n",
       "    <tr>\n",
       "      <th>25%</th>\n",
       "      <td>4.312616e+06</td>\n",
       "      <td>20442.000000</td>\n",
       "    </tr>\n",
       "    <tr>\n",
       "      <th>50%</th>\n",
       "      <td>6.264848e+06</td>\n",
       "      <td>20442.000000</td>\n",
       "    </tr>\n",
       "    <tr>\n",
       "      <th>75%</th>\n",
       "      <td>6.286342e+06</td>\n",
       "      <td>20442.000000</td>\n",
       "    </tr>\n",
       "    <tr>\n",
       "      <th>max</th>\n",
       "      <td>6.333349e+06</td>\n",
       "      <td>111597.000000</td>\n",
       "    </tr>\n",
       "  </tbody>\n",
       "</table>\n",
       "</div>"
      ],
      "text/plain": [
       "            SalesID      SalePrice\n",
       "count  1.157300e+04   11573.000000\n",
       "mean   5.180809e+06   21458.834529\n",
       "std    1.619443e+06   11567.585562\n",
       "min    1.222837e+06  -38316.000000\n",
       "25%    4.312616e+06   20442.000000\n",
       "50%    6.264848e+06   20442.000000\n",
       "75%    6.286342e+06   20442.000000\n",
       "max    6.333349e+06  111597.000000"
      ]
     },
     "execution_count": 106,
     "metadata": {},
     "output_type": "execute_result"
    }
   ],
   "source": [
    "dfbackup = df.copy()\n",
    "\n",
    "# gbparams = {'loss': 'ls',\n",
    "#             'max_leaf_nodes': None,\n",
    "#             'learning_rate': 1,\n",
    "#             'min_samples_leaf': 1,\n",
    "#             'n_estimators': 2000,\n",
    "#             'subsample': 1.0,\n",
    "#             'min_samples_split': 2,\n",
    "#             'max_depth': 2\n",
    "#            }\n",
    "\n",
    "# gb = GradientBoostingRegressor(**gbparams)\n",
    "\n",
    "# gb.fit(X_train, y_train)\n",
    "\n",
    "# predictions = gb.predict(final)\n",
    "\n",
    "\n",
    "\n",
    "\n",
    "\n",
    "rf_params = {'max_leaf_nodes': None,\n",
    "             'min_samples_leaf': 1,\n",
    "             'n_estimators': 150,\n",
    "             'min_samples_split': 2,\n",
    "             'random_state': 1,\n",
    "             'criterion': 'mse',\n",
    "             'max_features': 'auto',\n",
    "             'max_depth': None\n",
    "            }\n",
    "\n",
    "rf = RandomForestRegressor(**rf_params)\n",
    "\n",
    "rf.fit(X, y) # NEED TO FIT TO MORE DATA\n",
    "\n",
    "predictions = rf.predict(final)\n",
    "\n",
    "\n",
    "\n",
    "\n",
    "\n",
    "\n",
    "writeout = np.stack([salearray, predictions], axis=1)\n",
    "\n",
    "writedf = pd.DataFrame(writeout, columns=[\"SalesID\", \"SalePrice\"]).astype(int)\n",
    "\n",
    "writedf.to_csv(\"predictions.csv\", index=False)\n",
    "\n",
    "writedf.describe()"
   ]
  },
  {
   "cell_type": "markdown",
   "metadata": {
    "deletable": true,
    "editable": true
   },
   "source": [
    "R^2 score is only 55%"
   ]
  },
  {
   "cell_type": "code",
   "execution_count": null,
   "metadata": {
    "collapsed": true,
    "deletable": true,
    "editable": true
   },
   "outputs": [],
   "source": []
  }
 ],
 "metadata": {
  "anaconda-cloud": {},
  "kernelspec": {
   "display_name": "Python [default]",
   "language": "python",
   "name": "python2"
  },
  "language_info": {
   "codemirror_mode": {
    "name": "ipython",
    "version": 2
   },
   "file_extension": ".py",
   "mimetype": "text/x-python",
   "name": "python",
   "nbconvert_exporter": "python",
   "pygments_lexer": "ipython2",
   "version": "2.7.13"
  }
 },
 "nbformat": 4,
 "nbformat_minor": 2
}
